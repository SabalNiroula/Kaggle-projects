{
 "cells": [
  {
   "cell_type": "code",
   "execution_count": 1,
   "id": "447922be",
   "metadata": {
    "_cell_guid": "b1076dfc-b9ad-4769-8c92-a6c4dae69d19",
    "_uuid": "8f2839f25d086af736a60e9eeb907d3b93b6e0e5",
    "execution": {
     "iopub.execute_input": "2022-11-14T12:15:41.252942Z",
     "iopub.status.busy": "2022-11-14T12:15:41.252440Z",
     "iopub.status.idle": "2022-11-14T12:15:41.270974Z",
     "shell.execute_reply": "2022-11-14T12:15:41.269616Z"
    },
    "papermill": {
     "duration": 0.034437,
     "end_time": "2022-11-14T12:15:41.273512",
     "exception": false,
     "start_time": "2022-11-14T12:15:41.239075",
     "status": "completed"
    },
    "tags": []
   },
   "outputs": [
    {
     "name": "stdout",
     "output_type": "stream",
     "text": [
      "/kaggle/input/imdb-dataset-of-50k-movie-reviews/IMDB Dataset.csv\n"
     ]
    }
   ],
   "source": [
    "# This Python 3 environment comes with many helpful analytics libraries installed\n",
    "# It is defined by the kaggle/python Docker image: https://github.com/kaggle/docker-python\n",
    "# For example, here's several helpful packages to load\n",
    "\n",
    "import numpy as np # linear algebra\n",
    "import pandas as pd # data processing, CSV file I/O (e.g. pd.read_csv)\n",
    "\n",
    "# Input data files are available in the read-only \"../input/\" directory\n",
    "# For example, running this (by clicking run or pressing Shift+Enter) will list all files under the input directory\n",
    "\n",
    "import os\n",
    "for dirname, _, filenames in os.walk('/kaggle/input'):\n",
    "    for filename in filenames:\n",
    "        print(os.path.join(dirname, filename))\n",
    "\n",
    "# You can write up to 20GB to the current directory (/kaggle/working/) that gets preserved as output when you create a version using \"Save & Run All\" \n",
    "# You can also write temporary files to /kaggle/temp/, but they won't be saved outside of the current session"
   ]
  },
  {
   "cell_type": "code",
   "execution_count": 2,
   "id": "07bb0311",
   "metadata": {
    "execution": {
     "iopub.execute_input": "2022-11-14T12:15:41.295201Z",
     "iopub.status.busy": "2022-11-14T12:15:41.294753Z",
     "iopub.status.idle": "2022-11-14T12:15:42.884321Z",
     "shell.execute_reply": "2022-11-14T12:15:42.883430Z"
    },
    "papermill": {
     "duration": 1.603596,
     "end_time": "2022-11-14T12:15:42.887243",
     "exception": false,
     "start_time": "2022-11-14T12:15:41.283647",
     "status": "completed"
    },
    "tags": []
   },
   "outputs": [],
   "source": [
    "df = pd.read_csv('../input/imdb-dataset-of-50k-movie-reviews/IMDB Dataset.csv')"
   ]
  },
  {
   "cell_type": "code",
   "execution_count": 3,
   "id": "dc50d390",
   "metadata": {
    "execution": {
     "iopub.execute_input": "2022-11-14T12:15:42.912583Z",
     "iopub.status.busy": "2022-11-14T12:15:42.912134Z",
     "iopub.status.idle": "2022-11-14T12:15:42.943269Z",
     "shell.execute_reply": "2022-11-14T12:15:42.942081Z"
    },
    "papermill": {
     "duration": 0.047022,
     "end_time": "2022-11-14T12:15:42.945988",
     "exception": false,
     "start_time": "2022-11-14T12:15:42.898966",
     "status": "completed"
    },
    "tags": []
   },
   "outputs": [
    {
     "data": {
      "text/html": [
       "<div>\n",
       "<style scoped>\n",
       "    .dataframe tbody tr th:only-of-type {\n",
       "        vertical-align: middle;\n",
       "    }\n",
       "\n",
       "    .dataframe tbody tr th {\n",
       "        vertical-align: top;\n",
       "    }\n",
       "\n",
       "    .dataframe thead th {\n",
       "        text-align: right;\n",
       "    }\n",
       "</style>\n",
       "<table border=\"1\" class=\"dataframe\">\n",
       "  <thead>\n",
       "    <tr style=\"text-align: right;\">\n",
       "      <th></th>\n",
       "      <th>review</th>\n",
       "      <th>sentiment</th>\n",
       "    </tr>\n",
       "  </thead>\n",
       "  <tbody>\n",
       "    <tr>\n",
       "      <th>0</th>\n",
       "      <td>One of the other reviewers has mentioned that ...</td>\n",
       "      <td>positive</td>\n",
       "    </tr>\n",
       "    <tr>\n",
       "      <th>1</th>\n",
       "      <td>A wonderful little production. &lt;br /&gt;&lt;br /&gt;The...</td>\n",
       "      <td>positive</td>\n",
       "    </tr>\n",
       "    <tr>\n",
       "      <th>2</th>\n",
       "      <td>I thought this was a wonderful way to spend ti...</td>\n",
       "      <td>positive</td>\n",
       "    </tr>\n",
       "    <tr>\n",
       "      <th>3</th>\n",
       "      <td>Basically there's a family where a little boy ...</td>\n",
       "      <td>negative</td>\n",
       "    </tr>\n",
       "    <tr>\n",
       "      <th>4</th>\n",
       "      <td>Petter Mattei's \"Love in the Time of Money\" is...</td>\n",
       "      <td>positive</td>\n",
       "    </tr>\n",
       "  </tbody>\n",
       "</table>\n",
       "</div>"
      ],
      "text/plain": [
       "                                              review sentiment\n",
       "0  One of the other reviewers has mentioned that ...  positive\n",
       "1  A wonderful little production. <br /><br />The...  positive\n",
       "2  I thought this was a wonderful way to spend ti...  positive\n",
       "3  Basically there's a family where a little boy ...  negative\n",
       "4  Petter Mattei's \"Love in the Time of Money\" is...  positive"
      ]
     },
     "execution_count": 3,
     "metadata": {},
     "output_type": "execute_result"
    }
   ],
   "source": [
    "df.head()"
   ]
  },
  {
   "cell_type": "markdown",
   "id": "9479952f",
   "metadata": {
    "papermill": {
     "duration": 0.009814,
     "end_time": "2022-11-14T12:15:42.966077",
     "exception": false,
     "start_time": "2022-11-14T12:15:42.956263",
     "status": "completed"
    },
    "tags": []
   },
   "source": [
    "**Text Cleaning**\n",
    "1. Take 10000 reviews for easier purpose \n",
    "2. Remove html tags \n",
    "3. Remove special characters like dot(.)\n",
    "4. convert everything to lower case\n",
    "5. Removing stop words (like is, the, or, and, etc.)\n",
    "6. Stemming words(converting any verb(2,3,4,5) to v1 like played, playing to play)\n"
   ]
  },
  {
   "cell_type": "code",
   "execution_count": 4,
   "id": "35e4bb3f",
   "metadata": {
    "execution": {
     "iopub.execute_input": "2022-11-14T12:15:42.988454Z",
     "iopub.status.busy": "2022-11-14T12:15:42.987984Z",
     "iopub.status.idle": "2022-11-14T12:15:43.000112Z",
     "shell.execute_reply": "2022-11-14T12:15:42.998817Z"
    },
    "papermill": {
     "duration": 0.026422,
     "end_time": "2022-11-14T12:15:43.002790",
     "exception": false,
     "start_time": "2022-11-14T12:15:42.976368",
     "status": "completed"
    },
    "tags": []
   },
   "outputs": [
    {
     "data": {
      "text/plain": [
       "\"One of the other reviewers has mentioned that after watching just 1 Oz episode you'll be hooked. They are right, as this is exactly what happened with me.<br /><br />The first thing that struck me about Oz was its brutality and unflinching scenes of violence, which set in right from the word GO. Trust me, this is not a show for the faint hearted or timid. This show pulls no punches with regards to drugs, sex or violence. Its is hardcore, in the classic use of the word.<br /><br />It is called OZ as that is the nickname given to the Oswald Maximum Security State Penitentary. It focuses mainly on Emerald City, an experimental section of the prison where all the cells have glass fronts and face inwards, so privacy is not high on the agenda. Em City is home to many..Aryans, Muslims, gangstas, Latinos, Christians, Italians, Irish and more....so scuffles, death stares, dodgy dealings and shady agreements are never far away.<br /><br />I would say the main appeal of the show is due to the fact that it goes where other shows wouldn't dare. Forget pretty pictures painted for mainstream audiences, forget charm, forget romance...OZ doesn't mess around. The first episode I ever saw struck me as so nasty it was surreal, I couldn't say I was ready for it, but as I watched more, I developed a taste for Oz, and got accustomed to the high levels of graphic violence. Not just violence, but injustice (crooked guards who'll be sold out for a nickel, inmates who'll kill on order and get away with it, well mannered, middle class inmates being turned into prison bitches due to their lack of street skills or prison experience) Watching Oz, you may become comfortable with what is uncomfortable viewing....thats if you can get in touch with your darker side.\""
      ]
     },
     "execution_count": 4,
     "metadata": {},
     "output_type": "execute_result"
    }
   ],
   "source": [
    "df['review'][0]"
   ]
  },
  {
   "cell_type": "markdown",
   "id": "c33a659a",
   "metadata": {
    "papermill": {
     "duration": 0.010109,
     "end_time": "2022-11-14T12:15:43.023483",
     "exception": false,
     "start_time": "2022-11-14T12:15:43.013374",
     "status": "completed"
    },
    "tags": []
   },
   "source": [
    "**Text Cleaning**\n",
    "1. Take 10000 reviews for easier purpose \n",
    "2. Remove html tags \n",
    "3. Remove special characters like dot(.)\n",
    "4. convert everything to lower case\n",
    "5. Removing stop words (like is, the, or, and, etc.)\n",
    "6. Stemming words(converting any verb(2,3,4,5) to v1 like played, playing to play)"
   ]
  },
  {
   "cell_type": "code",
   "execution_count": 5,
   "id": "83c89773",
   "metadata": {
    "execution": {
     "iopub.execute_input": "2022-11-14T12:15:43.046150Z",
     "iopub.status.busy": "2022-11-14T12:15:43.045680Z",
     "iopub.status.idle": "2022-11-14T12:15:43.059614Z",
     "shell.execute_reply": "2022-11-14T12:15:43.058633Z"
    },
    "papermill": {
     "duration": 0.02834,
     "end_time": "2022-11-14T12:15:43.062169",
     "exception": false,
     "start_time": "2022-11-14T12:15:43.033829",
     "status": "completed"
    },
    "tags": []
   },
   "outputs": [],
   "source": [
    "df = df.sample(10000)"
   ]
  },
  {
   "cell_type": "code",
   "execution_count": 6,
   "id": "0b8fbe9a",
   "metadata": {
    "execution": {
     "iopub.execute_input": "2022-11-14T12:15:43.085608Z",
     "iopub.status.busy": "2022-11-14T12:15:43.084531Z",
     "iopub.status.idle": "2022-11-14T12:15:43.092287Z",
     "shell.execute_reply": "2022-11-14T12:15:43.091218Z"
    },
    "papermill": {
     "duration": 0.022135,
     "end_time": "2022-11-14T12:15:43.094713",
     "exception": false,
     "start_time": "2022-11-14T12:15:43.072578",
     "status": "completed"
    },
    "tags": []
   },
   "outputs": [
    {
     "data": {
      "text/plain": [
       "(10000, 2)"
      ]
     },
     "execution_count": 6,
     "metadata": {},
     "output_type": "execute_result"
    }
   ],
   "source": [
    "df.shape"
   ]
  },
  {
   "cell_type": "code",
   "execution_count": 7,
   "id": "144331df",
   "metadata": {
    "execution": {
     "iopub.execute_input": "2022-11-14T12:15:43.120528Z",
     "iopub.status.busy": "2022-11-14T12:15:43.119658Z",
     "iopub.status.idle": "2022-11-14T12:15:43.143716Z",
     "shell.execute_reply": "2022-11-14T12:15:43.141802Z"
    },
    "papermill": {
     "duration": 0.040214,
     "end_time": "2022-11-14T12:15:43.146053",
     "exception": false,
     "start_time": "2022-11-14T12:15:43.105839",
     "status": "completed"
    },
    "tags": []
   },
   "outputs": [
    {
     "name": "stdout",
     "output_type": "stream",
     "text": [
      "<class 'pandas.core.frame.DataFrame'>\n",
      "Int64Index: 10000 entries, 28784 to 10248\n",
      "Data columns (total 2 columns):\n",
      " #   Column     Non-Null Count  Dtype \n",
      "---  ------     --------------  ----- \n",
      " 0   review     10000 non-null  object\n",
      " 1   sentiment  10000 non-null  object\n",
      "dtypes: object(2)\n",
      "memory usage: 234.4+ KB\n"
     ]
    }
   ],
   "source": [
    "df.info()"
   ]
  },
  {
   "cell_type": "code",
   "execution_count": 8,
   "id": "df4b66f1",
   "metadata": {
    "execution": {
     "iopub.execute_input": "2022-11-14T12:15:43.169313Z",
     "iopub.status.busy": "2022-11-14T12:15:43.168665Z",
     "iopub.status.idle": "2022-11-14T12:15:43.178882Z",
     "shell.execute_reply": "2022-11-14T12:15:43.177855Z"
    },
    "papermill": {
     "duration": 0.024831,
     "end_time": "2022-11-14T12:15:43.181411",
     "exception": false,
     "start_time": "2022-11-14T12:15:43.156580",
     "status": "completed"
    },
    "tags": []
   },
   "outputs": [],
   "source": [
    "df['sentiment'].replace({'positive':1, 'negative': 0},inplace = True)"
   ]
  },
  {
   "cell_type": "code",
   "execution_count": 9,
   "id": "202be562",
   "metadata": {
    "execution": {
     "iopub.execute_input": "2022-11-14T12:15:43.204501Z",
     "iopub.status.busy": "2022-11-14T12:15:43.203778Z",
     "iopub.status.idle": "2022-11-14T12:15:43.214887Z",
     "shell.execute_reply": "2022-11-14T12:15:43.213457Z"
    },
    "papermill": {
     "duration": 0.025564,
     "end_time": "2022-11-14T12:15:43.217454",
     "exception": false,
     "start_time": "2022-11-14T12:15:43.191890",
     "status": "completed"
    },
    "tags": []
   },
   "outputs": [
    {
     "data": {
      "text/html": [
       "<div>\n",
       "<style scoped>\n",
       "    .dataframe tbody tr th:only-of-type {\n",
       "        vertical-align: middle;\n",
       "    }\n",
       "\n",
       "    .dataframe tbody tr th {\n",
       "        vertical-align: top;\n",
       "    }\n",
       "\n",
       "    .dataframe thead th {\n",
       "        text-align: right;\n",
       "    }\n",
       "</style>\n",
       "<table border=\"1\" class=\"dataframe\">\n",
       "  <thead>\n",
       "    <tr style=\"text-align: right;\">\n",
       "      <th></th>\n",
       "      <th>review</th>\n",
       "      <th>sentiment</th>\n",
       "    </tr>\n",
       "  </thead>\n",
       "  <tbody>\n",
       "    <tr>\n",
       "      <th>28784</th>\n",
       "      <td>Savage Steve Holland wrote and directed his se...</td>\n",
       "      <td>0</td>\n",
       "    </tr>\n",
       "    <tr>\n",
       "      <th>39733</th>\n",
       "      <td>For your own good, it would be best to disrega...</td>\n",
       "      <td>0</td>\n",
       "    </tr>\n",
       "    <tr>\n",
       "      <th>20886</th>\n",
       "      <td>While I hold its predecessor, \"Fast Times At R...</td>\n",
       "      <td>1</td>\n",
       "    </tr>\n",
       "    <tr>\n",
       "      <th>26175</th>\n",
       "      <td>Please -- if you haven't attempted to sit thro...</td>\n",
       "      <td>0</td>\n",
       "    </tr>\n",
       "    <tr>\n",
       "      <th>22815</th>\n",
       "      <td>This film was okay, but like most TV series it...</td>\n",
       "      <td>0</td>\n",
       "    </tr>\n",
       "  </tbody>\n",
       "</table>\n",
       "</div>"
      ],
      "text/plain": [
       "                                                  review  sentiment\n",
       "28784  Savage Steve Holland wrote and directed his se...          0\n",
       "39733  For your own good, it would be best to disrega...          0\n",
       "20886  While I hold its predecessor, \"Fast Times At R...          1\n",
       "26175  Please -- if you haven't attempted to sit thro...          0\n",
       "22815  This film was okay, but like most TV series it...          0"
      ]
     },
     "execution_count": 9,
     "metadata": {},
     "output_type": "execute_result"
    }
   ],
   "source": [
    "df.head()"
   ]
  },
  {
   "cell_type": "code",
   "execution_count": 10,
   "id": "51a7528c",
   "metadata": {
    "execution": {
     "iopub.execute_input": "2022-11-14T12:15:43.241436Z",
     "iopub.status.busy": "2022-11-14T12:15:43.240773Z",
     "iopub.status.idle": "2022-11-14T12:15:43.245301Z",
     "shell.execute_reply": "2022-11-14T12:15:43.244441Z"
    },
    "papermill": {
     "duration": 0.019358,
     "end_time": "2022-11-14T12:15:43.247621",
     "exception": false,
     "start_time": "2022-11-14T12:15:43.228263",
     "status": "completed"
    },
    "tags": []
   },
   "outputs": [],
   "source": [
    "def clean_html(text):\n",
    "    clean = re.compile(\"<.*?>\")\n",
    "    return re.sub(clean, \"\", text)"
   ]
  },
  {
   "cell_type": "code",
   "execution_count": 11,
   "id": "5150555d",
   "metadata": {
    "execution": {
     "iopub.execute_input": "2022-11-14T12:15:43.271341Z",
     "iopub.status.busy": "2022-11-14T12:15:43.270649Z",
     "iopub.status.idle": "2022-11-14T12:15:43.280348Z",
     "shell.execute_reply": "2022-11-14T12:15:43.279368Z"
    },
    "papermill": {
     "duration": 0.024288,
     "end_time": "2022-11-14T12:15:43.282653",
     "exception": false,
     "start_time": "2022-11-14T12:15:43.258365",
     "status": "completed"
    },
    "tags": []
   },
   "outputs": [
    {
     "data": {
      "text/html": [
       "<div>\n",
       "<style scoped>\n",
       "    .dataframe tbody tr th:only-of-type {\n",
       "        vertical-align: middle;\n",
       "    }\n",
       "\n",
       "    .dataframe tbody tr th {\n",
       "        vertical-align: top;\n",
       "    }\n",
       "\n",
       "    .dataframe thead th {\n",
       "        text-align: right;\n",
       "    }\n",
       "</style>\n",
       "<table border=\"1\" class=\"dataframe\">\n",
       "  <thead>\n",
       "    <tr style=\"text-align: right;\">\n",
       "      <th></th>\n",
       "      <th>review</th>\n",
       "      <th>sentiment</th>\n",
       "    </tr>\n",
       "  </thead>\n",
       "  <tbody>\n",
       "    <tr>\n",
       "      <th>28784</th>\n",
       "      <td>Savage Steve Holland wrote and directed his se...</td>\n",
       "      <td>0</td>\n",
       "    </tr>\n",
       "    <tr>\n",
       "      <th>39733</th>\n",
       "      <td>For your own good, it would be best to disrega...</td>\n",
       "      <td>0</td>\n",
       "    </tr>\n",
       "    <tr>\n",
       "      <th>20886</th>\n",
       "      <td>While I hold its predecessor, \"Fast Times At R...</td>\n",
       "      <td>1</td>\n",
       "    </tr>\n",
       "    <tr>\n",
       "      <th>26175</th>\n",
       "      <td>Please -- if you haven't attempted to sit thro...</td>\n",
       "      <td>0</td>\n",
       "    </tr>\n",
       "    <tr>\n",
       "      <th>22815</th>\n",
       "      <td>This film was okay, but like most TV series it...</td>\n",
       "      <td>0</td>\n",
       "    </tr>\n",
       "  </tbody>\n",
       "</table>\n",
       "</div>"
      ],
      "text/plain": [
       "                                                  review  sentiment\n",
       "28784  Savage Steve Holland wrote and directed his se...          0\n",
       "39733  For your own good, it would be best to disrega...          0\n",
       "20886  While I hold its predecessor, \"Fast Times At R...          1\n",
       "26175  Please -- if you haven't attempted to sit thro...          0\n",
       "22815  This film was okay, but like most TV series it...          0"
      ]
     },
     "execution_count": 11,
     "metadata": {},
     "output_type": "execute_result"
    }
   ],
   "source": [
    "df.head()"
   ]
  },
  {
   "cell_type": "code",
   "execution_count": 12,
   "id": "b93bfeb2",
   "metadata": {
    "execution": {
     "iopub.execute_input": "2022-11-14T12:15:43.307793Z",
     "iopub.status.busy": "2022-11-14T12:15:43.307114Z",
     "iopub.status.idle": "2022-11-14T12:15:43.315190Z",
     "shell.execute_reply": "2022-11-14T12:15:43.314022Z"
    },
    "papermill": {
     "duration": 0.023757,
     "end_time": "2022-11-14T12:15:43.317805",
     "exception": false,
     "start_time": "2022-11-14T12:15:43.294048",
     "status": "completed"
    },
    "tags": []
   },
   "outputs": [
    {
     "data": {
      "text/plain": [
       "'While I hold its predecessor, \"Fast Times At Ridgemont High,\" as a standard to which other teen comedies should be compared, \"The Wild Life\" is one of the better lesser known films from that time-and a worthy sequel, if you can call it that. I believe its tagline reads, \"From the makers of FTARH, something even faster.\" This definitely holds true. Though it may lack the depth of the former which tackles issues like first dates, teen sex, and abortions, \"The Wild Life\" is, nonetheless, a great flick. It\\'s pure chaotic fun, especially due to Chris Penn\\'s over-the-top character, Thomas Drake. If Spicolli was high on coke instead of weed, he would be Drake. Eric Stoltz, in his first major role, is great as the straight-laced Bill Conrad. The two characters work well off one another. Think a younger, hipper Odd Couple, complete with 80\\'s gloss. Outside of them there are so many other great things about this film worth mentioning. Lea Thompsom has never looked cuter, especially during the scenes of her working at the donut shop. Jenny Wright is just delectable and fun to watch. Rick Moranis plays a great nerd/perv who is dying to get in her pants. Thomas Drake\\'s wrestler buddies are hysterical, especially Benny, the little Puerto Rican guy, who says some pretty memorable lines. One in particular that he yells out during a night out at a strip club had me on the floor the first time I saw it. That\\'s saying something! Finally, the movie ends with one of the best 80\\'s party scenes on film, ever. Look out for special appearances by Ron Wood of the Rolling Stones, Leo Penn (Sean and Chris Penn\\'s dad), and a random Michael Jackson look-alike at the party. Throw in a score by none other than the man himself, Eddie Van Halen, and you can\\'t go wrong. For Van Hagar fans, keep your ears open for riffs that would be found on such albums as 5150, OU812, and For Unlawful Carnal Knowledge.If anything disrupts the flow of the movie it is a small subplot involving Randy Quaid as a burned out Vietnam vet. It just seems out of place and unnecessary. Other than that, it\\'s near perfect. If your a fan of mindless but fun 80\\'s movies and have not yet seen this one, you\\'re in for something special. RENT IT NOW!!! p.s.-The credits say Cameron Crowe has a cameo as one of the cops in the film. Does he have his back turned during his scene because I have yet to find him. Someone please help me.'"
      ]
     },
     "execution_count": 12,
     "metadata": {},
     "output_type": "execute_result"
    }
   ],
   "source": [
    "import re\n",
    "clean = re.compile(\"<.*?>\")\n",
    "re.sub(clean,'', df.iloc[2].review)"
   ]
  },
  {
   "cell_type": "code",
   "execution_count": 13,
   "id": "72c3f77a",
   "metadata": {
    "execution": {
     "iopub.execute_input": "2022-11-14T12:15:43.342403Z",
     "iopub.status.busy": "2022-11-14T12:15:43.341497Z",
     "iopub.status.idle": "2022-11-14T12:15:43.409745Z",
     "shell.execute_reply": "2022-11-14T12:15:43.408552Z"
    },
    "papermill": {
     "duration": 0.083733,
     "end_time": "2022-11-14T12:15:43.412595",
     "exception": false,
     "start_time": "2022-11-14T12:15:43.328862",
     "status": "completed"
    },
    "tags": []
   },
   "outputs": [],
   "source": [
    "df['review'] = df['review'].apply(clean_html)"
   ]
  },
  {
   "cell_type": "code",
   "execution_count": 14,
   "id": "ab9e8b55",
   "metadata": {
    "execution": {
     "iopub.execute_input": "2022-11-14T12:15:43.438108Z",
     "iopub.status.busy": "2022-11-14T12:15:43.437633Z",
     "iopub.status.idle": "2022-11-14T12:15:43.446791Z",
     "shell.execute_reply": "2022-11-14T12:15:43.445578Z"
    },
    "papermill": {
     "duration": 0.024487,
     "end_time": "2022-11-14T12:15:43.449210",
     "exception": false,
     "start_time": "2022-11-14T12:15:43.424723",
     "status": "completed"
    },
    "tags": []
   },
   "outputs": [
    {
     "data": {
      "text/plain": [
       "28784    Savage Steve Holland wrote and directed his se...\n",
       "39733    For your own good, it would be best to disrega...\n",
       "20886    While I hold its predecessor, \"Fast Times At R...\n",
       "26175    Please -- if you haven't attempted to sit thro...\n",
       "22815    This film was okay, but like most TV series it...\n",
       "                               ...                        \n",
       "13861    I haven't read the source, Richard Brooks' nov...\n",
       "11926    I wouldn't rent this one even on dollar rental...\n",
       "13267    I wish Depardieu had been able to finish his b...\n",
       "37185    In all my years of film-going, only once have ...\n",
       "10248    Any film with a title as ridiculous as \"The Ba...\n",
       "Name: review, Length: 10000, dtype: object"
      ]
     },
     "execution_count": 14,
     "metadata": {},
     "output_type": "execute_result"
    }
   ],
   "source": [
    "df['review']"
   ]
  },
  {
   "cell_type": "code",
   "execution_count": 15,
   "id": "e82aaacb",
   "metadata": {
    "execution": {
     "iopub.execute_input": "2022-11-14T12:15:43.474335Z",
     "iopub.status.busy": "2022-11-14T12:15:43.473521Z",
     "iopub.status.idle": "2022-11-14T12:15:43.479460Z",
     "shell.execute_reply": "2022-11-14T12:15:43.478239Z"
    },
    "papermill": {
     "duration": 0.021388,
     "end_time": "2022-11-14T12:15:43.481982",
     "exception": false,
     "start_time": "2022-11-14T12:15:43.460594",
     "status": "completed"
    },
    "tags": []
   },
   "outputs": [],
   "source": [
    "def lower_case(text):\n",
    "    return text.lower();"
   ]
  },
  {
   "cell_type": "code",
   "execution_count": 16,
   "id": "c9a4ec34",
   "metadata": {
    "execution": {
     "iopub.execute_input": "2022-11-14T12:15:43.506120Z",
     "iopub.status.busy": "2022-11-14T12:15:43.505723Z",
     "iopub.status.idle": "2022-11-14T12:15:43.546082Z",
     "shell.execute_reply": "2022-11-14T12:15:43.544762Z"
    },
    "papermill": {
     "duration": 0.055689,
     "end_time": "2022-11-14T12:15:43.548997",
     "exception": false,
     "start_time": "2022-11-14T12:15:43.493308",
     "status": "completed"
    },
    "tags": []
   },
   "outputs": [],
   "source": [
    "df['review'] = df['review'].apply(lower_case)"
   ]
  },
  {
   "cell_type": "code",
   "execution_count": 17,
   "id": "499227ed",
   "metadata": {
    "execution": {
     "iopub.execute_input": "2022-11-14T12:15:43.573511Z",
     "iopub.status.busy": "2022-11-14T12:15:43.572226Z",
     "iopub.status.idle": "2022-11-14T12:15:43.582022Z",
     "shell.execute_reply": "2022-11-14T12:15:43.580713Z"
    },
    "papermill": {
     "duration": 0.024368,
     "end_time": "2022-11-14T12:15:43.584296",
     "exception": false,
     "start_time": "2022-11-14T12:15:43.559928",
     "status": "completed"
    },
    "tags": []
   },
   "outputs": [
    {
     "data": {
      "text/plain": [
       "28784    savage steve holland wrote and directed his se...\n",
       "39733    for your own good, it would be best to disrega...\n",
       "20886    while i hold its predecessor, \"fast times at r...\n",
       "26175    please -- if you haven't attempted to sit thro...\n",
       "22815    this film was okay, but like most tv series it...\n",
       "                               ...                        \n",
       "13861    i haven't read the source, richard brooks' nov...\n",
       "11926    i wouldn't rent this one even on dollar rental...\n",
       "13267    i wish depardieu had been able to finish his b...\n",
       "37185    in all my years of film-going, only once have ...\n",
       "10248    any film with a title as ridiculous as \"the ba...\n",
       "Name: review, Length: 10000, dtype: object"
      ]
     },
     "execution_count": 17,
     "metadata": {},
     "output_type": "execute_result"
    }
   ],
   "source": [
    "df['review']"
   ]
  },
  {
   "cell_type": "code",
   "execution_count": 18,
   "id": "967d5727",
   "metadata": {
    "execution": {
     "iopub.execute_input": "2022-11-14T12:15:43.608826Z",
     "iopub.status.busy": "2022-11-14T12:15:43.608409Z",
     "iopub.status.idle": "2022-11-14T12:15:43.614355Z",
     "shell.execute_reply": "2022-11-14T12:15:43.613197Z"
    },
    "papermill": {
     "duration": 0.021359,
     "end_time": "2022-11-14T12:15:43.616834",
     "exception": false,
     "start_time": "2022-11-14T12:15:43.595475",
     "status": "completed"
    },
    "tags": []
   },
   "outputs": [],
   "source": [
    "def special_character(text):\n",
    "    x = ''\n",
    "    for i in text:\n",
    "        if i.isalpha():\n",
    "            x = x+i\n",
    "        else:\n",
    "            x = x + ' '\n",
    "        \n",
    "    return x;"
   ]
  },
  {
   "cell_type": "code",
   "execution_count": 19,
   "id": "f6715c41",
   "metadata": {
    "execution": {
     "iopub.execute_input": "2022-11-14T12:15:43.641009Z",
     "iopub.status.busy": "2022-11-14T12:15:43.640486Z",
     "iopub.status.idle": "2022-11-14T12:15:45.742300Z",
     "shell.execute_reply": "2022-11-14T12:15:45.741002Z"
    },
    "papermill": {
     "duration": 2.117485,
     "end_time": "2022-11-14T12:15:45.745416",
     "exception": false,
     "start_time": "2022-11-14T12:15:43.627931",
     "status": "completed"
    },
    "tags": []
   },
   "outputs": [],
   "source": [
    "df['review'] = df['review'].apply(special_character)"
   ]
  },
  {
   "cell_type": "code",
   "execution_count": 20,
   "id": "69e53d3b",
   "metadata": {
    "execution": {
     "iopub.execute_input": "2022-11-14T12:15:45.770839Z",
     "iopub.status.busy": "2022-11-14T12:15:45.770431Z",
     "iopub.status.idle": "2022-11-14T12:15:47.580170Z",
     "shell.execute_reply": "2022-11-14T12:15:47.579055Z"
    },
    "papermill": {
     "duration": 1.825461,
     "end_time": "2022-11-14T12:15:47.582964",
     "exception": false,
     "start_time": "2022-11-14T12:15:45.757503",
     "status": "completed"
    },
    "tags": []
   },
   "outputs": [],
   "source": [
    "import nltk"
   ]
  },
  {
   "cell_type": "code",
   "execution_count": 21,
   "id": "5ad02691",
   "metadata": {
    "execution": {
     "iopub.execute_input": "2022-11-14T12:15:47.608333Z",
     "iopub.status.busy": "2022-11-14T12:15:47.607904Z",
     "iopub.status.idle": "2022-11-14T12:15:47.612829Z",
     "shell.execute_reply": "2022-11-14T12:15:47.611681Z"
    },
    "papermill": {
     "duration": 0.020804,
     "end_time": "2022-11-14T12:15:47.615142",
     "exception": false,
     "start_time": "2022-11-14T12:15:47.594338",
     "status": "completed"
    },
    "tags": []
   },
   "outputs": [],
   "source": [
    "from nltk.corpus import stopwords"
   ]
  },
  {
   "cell_type": "code",
   "execution_count": 22,
   "id": "7572ea9d",
   "metadata": {
    "execution": {
     "iopub.execute_input": "2022-11-14T12:15:47.639714Z",
     "iopub.status.busy": "2022-11-14T12:15:47.639044Z",
     "iopub.status.idle": "2022-11-14T12:15:47.644926Z",
     "shell.execute_reply": "2022-11-14T12:15:47.643762Z"
    },
    "papermill": {
     "duration": 0.021304,
     "end_time": "2022-11-14T12:15:47.647619",
     "exception": false,
     "start_time": "2022-11-14T12:15:47.626315",
     "status": "completed"
    },
    "tags": []
   },
   "outputs": [],
   "source": [
    "def remove_stop(text):\n",
    "    x = []\n",
    "    for i in text.split():\n",
    "        if i not in stopwords.words('english'):\n",
    "            x.append(i)\n",
    "    y = x[:]\n",
    "    x.clear()\n",
    "    return y;"
   ]
  },
  {
   "cell_type": "code",
   "execution_count": 23,
   "id": "9a527109",
   "metadata": {
    "execution": {
     "iopub.execute_input": "2022-11-14T12:15:47.673109Z",
     "iopub.status.busy": "2022-11-14T12:15:47.672155Z",
     "iopub.status.idle": "2022-11-14T12:20:58.249258Z",
     "shell.execute_reply": "2022-11-14T12:20:58.247821Z"
    },
    "papermill": {
     "duration": 310.593239,
     "end_time": "2022-11-14T12:20:58.252442",
     "exception": false,
     "start_time": "2022-11-14T12:15:47.659203",
     "status": "completed"
    },
    "tags": []
   },
   "outputs": [],
   "source": [
    "df['review'] = df['review'].apply(remove_stop )"
   ]
  },
  {
   "cell_type": "code",
   "execution_count": 24,
   "id": "6cb53427",
   "metadata": {
    "execution": {
     "iopub.execute_input": "2022-11-14T12:20:58.277002Z",
     "iopub.status.busy": "2022-11-14T12:20:58.276598Z",
     "iopub.status.idle": "2022-11-14T12:20:58.291456Z",
     "shell.execute_reply": "2022-11-14T12:20:58.290076Z"
    },
    "papermill": {
     "duration": 0.029832,
     "end_time": "2022-11-14T12:20:58.293831",
     "exception": false,
     "start_time": "2022-11-14T12:20:58.263999",
     "status": "completed"
    },
    "tags": []
   },
   "outputs": [
    {
     "data": {
      "text/plain": [
       "28784    [savage, steve, holland, wrote, directed, seco...\n",
       "39733    [good, would, best, disregard, positive, revie...\n",
       "20886    [hold, predecessor, fast, times, ridgemont, hi...\n",
       "26175    [please, attempted, sit, garbage, considering,...\n",
       "22815    [film, okay, like, tv, series, would, better, ...\n",
       "                               ...                        \n",
       "13861    [read, source, richard, brooks, novel, brick, ...\n",
       "11926             [rent, one, even, dollar, rental, night]\n",
       "13267    [wish, depardieu, able, finish, book, see, bec...\n",
       "37185    [years, film, going, walked, film, dreadful, s...\n",
       "10248    [film, title, ridiculous, bagman, automaticall...\n",
       "Name: review, Length: 10000, dtype: object"
      ]
     },
     "execution_count": 24,
     "metadata": {},
     "output_type": "execute_result"
    }
   ],
   "source": [
    "df['review']"
   ]
  },
  {
   "cell_type": "code",
   "execution_count": 25,
   "id": "e84db32f",
   "metadata": {
    "execution": {
     "iopub.execute_input": "2022-11-14T12:20:58.319188Z",
     "iopub.status.busy": "2022-11-14T12:20:58.318788Z",
     "iopub.status.idle": "2022-11-14T12:20:58.323789Z",
     "shell.execute_reply": "2022-11-14T12:20:58.322849Z"
    },
    "papermill": {
     "duration": 0.019956,
     "end_time": "2022-11-14T12:20:58.325979",
     "exception": false,
     "start_time": "2022-11-14T12:20:58.306023",
     "status": "completed"
    },
    "tags": []
   },
   "outputs": [],
   "source": [
    "from nltk.stem.porter import PorterStemmer\n",
    "ps = PorterStemmer()"
   ]
  },
  {
   "cell_type": "code",
   "execution_count": 26,
   "id": "d5d58189",
   "metadata": {
    "execution": {
     "iopub.execute_input": "2022-11-14T12:20:58.350940Z",
     "iopub.status.busy": "2022-11-14T12:20:58.350294Z",
     "iopub.status.idle": "2022-11-14T12:20:58.355729Z",
     "shell.execute_reply": "2022-11-14T12:20:58.354807Z"
    },
    "papermill": {
     "duration": 0.02071,
     "end_time": "2022-11-14T12:20:58.358222",
     "exception": false,
     "start_time": "2022-11-14T12:20:58.337512",
     "status": "completed"
    },
    "tags": []
   },
   "outputs": [],
   "source": [
    "y = []\n",
    "def stem_word(text):\n",
    "    for i in text:\n",
    "        y.append(ps.stem(i)) \n",
    "    z = y[:]\n",
    "    y.clear()\n",
    "    return z"
   ]
  },
  {
   "cell_type": "code",
   "execution_count": 27,
   "id": "36a98845",
   "metadata": {
    "execution": {
     "iopub.execute_input": "2022-11-14T12:20:58.383374Z",
     "iopub.status.busy": "2022-11-14T12:20:58.382716Z",
     "iopub.status.idle": "2022-11-14T12:21:32.626501Z",
     "shell.execute_reply": "2022-11-14T12:21:32.625307Z"
    },
    "papermill": {
     "duration": 34.259815,
     "end_time": "2022-11-14T12:21:32.629534",
     "exception": false,
     "start_time": "2022-11-14T12:20:58.369719",
     "status": "completed"
    },
    "tags": []
   },
   "outputs": [],
   "source": [
    "df['review'] = df['review'].apply(stem_word)"
   ]
  },
  {
   "cell_type": "code",
   "execution_count": 28,
   "id": "c9e59732",
   "metadata": {
    "execution": {
     "iopub.execute_input": "2022-11-14T12:21:32.655298Z",
     "iopub.status.busy": "2022-11-14T12:21:32.654260Z",
     "iopub.status.idle": "2022-11-14T12:21:32.667849Z",
     "shell.execute_reply": "2022-11-14T12:21:32.666734Z"
    },
    "papermill": {
     "duration": 0.028996,
     "end_time": "2022-11-14T12:21:32.670495",
     "exception": false,
     "start_time": "2022-11-14T12:21:32.641499",
     "status": "completed"
    },
    "tags": []
   },
   "outputs": [
    {
     "data": {
      "text/plain": [
       "28784    [savag, steve, holland, wrote, direct, second,...\n",
       "39733    [good, would, best, disregard, posit, review, ...\n",
       "20886    [hold, predecessor, fast, time, ridgemont, hig...\n",
       "26175    [pleas, attempt, sit, garbag, consid, view, fl...\n",
       "22815    [film, okay, like, tv, seri, would, better, ma...\n",
       "                               ...                        \n",
       "13861    [read, sourc, richard, brook, novel, brick, fo...\n",
       "11926             [rent, one, even, dollar, rental, night]\n",
       "13267    [wish, depardieu, abl, finish, book, see, beco...\n",
       "37185    [year, film, go, walk, film, dread, stay, tune...\n",
       "10248    [film, titl, ridicul, bagman, automat, attract...\n",
       "Name: review, Length: 10000, dtype: object"
      ]
     },
     "execution_count": 28,
     "metadata": {},
     "output_type": "execute_result"
    }
   ],
   "source": [
    "df['review']"
   ]
  },
  {
   "cell_type": "code",
   "execution_count": 29,
   "id": "107af2b7",
   "metadata": {
    "execution": {
     "iopub.execute_input": "2022-11-14T12:21:32.696869Z",
     "iopub.status.busy": "2022-11-14T12:21:32.695741Z",
     "iopub.status.idle": "2022-11-14T12:21:32.701766Z",
     "shell.execute_reply": "2022-11-14T12:21:32.700623Z"
    },
    "papermill": {
     "duration": 0.021366,
     "end_time": "2022-11-14T12:21:32.704013",
     "exception": false,
     "start_time": "2022-11-14T12:21:32.682647",
     "status": "completed"
    },
    "tags": []
   },
   "outputs": [],
   "source": [
    "def join_back(text):\n",
    "    return \" \".join(text)"
   ]
  },
  {
   "cell_type": "code",
   "execution_count": 30,
   "id": "6228c201",
   "metadata": {
    "execution": {
     "iopub.execute_input": "2022-11-14T12:21:32.729097Z",
     "iopub.status.busy": "2022-11-14T12:21:32.728434Z",
     "iopub.status.idle": "2022-11-14T12:21:32.801767Z",
     "shell.execute_reply": "2022-11-14T12:21:32.800420Z"
    },
    "papermill": {
     "duration": 0.089334,
     "end_time": "2022-11-14T12:21:32.804907",
     "exception": false,
     "start_time": "2022-11-14T12:21:32.715573",
     "status": "completed"
    },
    "tags": []
   },
   "outputs": [],
   "source": [
    "df['review'] = df['review'].apply(join_back)"
   ]
  },
  {
   "cell_type": "code",
   "execution_count": 31,
   "id": "5968adee",
   "metadata": {
    "execution": {
     "iopub.execute_input": "2022-11-14T12:21:32.829731Z",
     "iopub.status.busy": "2022-11-14T12:21:32.829309Z",
     "iopub.status.idle": "2022-11-14T12:21:32.837785Z",
     "shell.execute_reply": "2022-11-14T12:21:32.836716Z"
    },
    "papermill": {
     "duration": 0.023672,
     "end_time": "2022-11-14T12:21:32.840164",
     "exception": false,
     "start_time": "2022-11-14T12:21:32.816492",
     "status": "completed"
    },
    "tags": []
   },
   "outputs": [
    {
     "data": {
      "text/plain": [
       "28784    savag steve holland wrote direct second film o...\n",
       "39733    good would best disregard posit review concern...\n",
       "20886    hold predecessor fast time ridgemont high stan...\n",
       "26175    pleas attempt sit garbag consid view flick min...\n",
       "22815    film okay like tv seri would better made telev...\n",
       "                               ...                        \n",
       "13861    read sourc richard brook novel brick foxhol ho...\n",
       "11926                    rent one even dollar rental night\n",
       "13267    wish depardieu abl finish book see becom dazzl...\n",
       "37185    year film go walk film dread stay tune fortun ...\n",
       "10248    film titl ridicul bagman automat attract atten...\n",
       "Name: review, Length: 10000, dtype: object"
      ]
     },
     "execution_count": 31,
     "metadata": {},
     "output_type": "execute_result"
    }
   ],
   "source": [
    "df['review']"
   ]
  },
  {
   "cell_type": "code",
   "execution_count": 32,
   "id": "25bc49ca",
   "metadata": {
    "execution": {
     "iopub.execute_input": "2022-11-14T12:21:32.865010Z",
     "iopub.status.busy": "2022-11-14T12:21:32.864581Z",
     "iopub.status.idle": "2022-11-14T12:21:32.869636Z",
     "shell.execute_reply": "2022-11-14T12:21:32.868530Z"
    },
    "papermill": {
     "duration": 0.020361,
     "end_time": "2022-11-14T12:21:32.872050",
     "exception": false,
     "start_time": "2022-11-14T12:21:32.851689",
     "status": "completed"
    },
    "tags": []
   },
   "outputs": [],
   "source": [
    "from sklearn.feature_extraction.text import CountVectorizer\n",
    "cv = CountVectorizer()"
   ]
  },
  {
   "cell_type": "code",
   "execution_count": 33,
   "id": "118a2411",
   "metadata": {
    "execution": {
     "iopub.execute_input": "2022-11-14T12:21:32.897447Z",
     "iopub.status.busy": "2022-11-14T12:21:32.897012Z",
     "iopub.status.idle": "2022-11-14T12:21:35.187276Z",
     "shell.execute_reply": "2022-11-14T12:21:35.185953Z"
    },
    "papermill": {
     "duration": 2.306661,
     "end_time": "2022-11-14T12:21:35.190330",
     "exception": false,
     "start_time": "2022-11-14T12:21:32.883669",
     "status": "completed"
    },
    "tags": []
   },
   "outputs": [],
   "source": [
    "X = cv.fit_transform(df['review']).toarray()"
   ]
  },
  {
   "cell_type": "code",
   "execution_count": 34,
   "id": "044be0e0",
   "metadata": {
    "execution": {
     "iopub.execute_input": "2022-11-14T12:21:35.215865Z",
     "iopub.status.busy": "2022-11-14T12:21:35.215111Z",
     "iopub.status.idle": "2022-11-14T12:21:35.220056Z",
     "shell.execute_reply": "2022-11-14T12:21:35.218949Z"
    },
    "papermill": {
     "duration": 0.020638,
     "end_time": "2022-11-14T12:21:35.222746",
     "exception": false,
     "start_time": "2022-11-14T12:21:35.202108",
     "status": "completed"
    },
    "tags": []
   },
   "outputs": [],
   "source": [
    "y = df.iloc[:, 1].values #returns index and label (1:positive, 0:negative) but with .values it return array of label"
   ]
  },
  {
   "cell_type": "code",
   "execution_count": 35,
   "id": "31520ab0",
   "metadata": {
    "execution": {
     "iopub.execute_input": "2022-11-14T12:21:35.248432Z",
     "iopub.status.busy": "2022-11-14T12:21:35.247977Z",
     "iopub.status.idle": "2022-11-14T12:21:35.255279Z",
     "shell.execute_reply": "2022-11-14T12:21:35.254133Z"
    },
    "papermill": {
     "duration": 0.022722,
     "end_time": "2022-11-14T12:21:35.257591",
     "exception": false,
     "start_time": "2022-11-14T12:21:35.234869",
     "status": "completed"
    },
    "tags": []
   },
   "outputs": [
    {
     "data": {
      "text/plain": [
       "array([0, 0, 1, ..., 0, 0, 0])"
      ]
     },
     "execution_count": 35,
     "metadata": {},
     "output_type": "execute_result"
    }
   ],
   "source": [
    "y"
   ]
  },
  {
   "cell_type": "markdown",
   "id": "143a5e63",
   "metadata": {
    "papermill": {
     "duration": 0.011266,
     "end_time": "2022-11-14T12:21:35.280744",
     "exception": false,
     "start_time": "2022-11-14T12:21:35.269478",
     "status": "completed"
    },
    "tags": []
   },
   "source": [
    "# **Training and Testing Phase**\n",
    "1. Splitting the data among training and testing phase\n",
    "2. Training Data\n",
    "3. Testing accuracy of Data "
   ]
  },
  {
   "cell_type": "code",
   "execution_count": 36,
   "id": "589592f6",
   "metadata": {
    "execution": {
     "iopub.execute_input": "2022-11-14T12:21:35.305713Z",
     "iopub.status.busy": "2022-11-14T12:21:35.305259Z",
     "iopub.status.idle": "2022-11-14T12:21:37.088325Z",
     "shell.execute_reply": "2022-11-14T12:21:37.086842Z"
    },
    "papermill": {
     "duration": 1.798834,
     "end_time": "2022-11-14T12:21:37.091120",
     "exception": false,
     "start_time": "2022-11-14T12:21:35.292286",
     "status": "completed"
    },
    "tags": []
   },
   "outputs": [],
   "source": [
    "from sklearn.model_selection import train_test_split\n",
    "X_train, X_test, Y_train, Y_test = train_test_split(X,y, test_size= 0.2)"
   ]
  },
  {
   "cell_type": "code",
   "execution_count": 37,
   "id": "c6791f75",
   "metadata": {
    "execution": {
     "iopub.execute_input": "2022-11-14T12:21:37.117408Z",
     "iopub.status.busy": "2022-11-14T12:21:37.116961Z",
     "iopub.status.idle": "2022-11-14T12:21:37.125713Z",
     "shell.execute_reply": "2022-11-14T12:21:37.124269Z"
    },
    "papermill": {
     "duration": 0.025308,
     "end_time": "2022-11-14T12:21:37.128275",
     "exception": false,
     "start_time": "2022-11-14T12:21:37.102967",
     "status": "completed"
    },
    "tags": []
   },
   "outputs": [],
   "source": [
    "from sklearn.naive_bayes import GaussianNB, MultinomialNB, BernoulliNB\n",
    "clf1 = GaussianNB()\n",
    "clf2 = MultinomialNB()\n",
    "clf3 = BernoulliNB()"
   ]
  },
  {
   "cell_type": "code",
   "execution_count": 38,
   "id": "5aee1bdc",
   "metadata": {
    "execution": {
     "iopub.execute_input": "2022-11-14T12:21:37.153636Z",
     "iopub.status.busy": "2022-11-14T12:21:37.153182Z",
     "iopub.status.idle": "2022-11-14T12:21:48.667592Z",
     "shell.execute_reply": "2022-11-14T12:21:48.666109Z"
    },
    "papermill": {
     "duration": 11.529993,
     "end_time": "2022-11-14T12:21:48.670048",
     "exception": false,
     "start_time": "2022-11-14T12:21:37.140055",
     "status": "completed"
    },
    "tags": []
   },
   "outputs": [
    {
     "data": {
      "text/plain": [
       "BernoulliNB()"
      ]
     },
     "execution_count": 38,
     "metadata": {},
     "output_type": "execute_result"
    }
   ],
   "source": [
    "clf1.fit(X_train, Y_train)\n",
    "clf2.fit(X_train, Y_train)\n",
    "clf3.fit(X_train, Y_train)"
   ]
  },
  {
   "cell_type": "code",
   "execution_count": 39,
   "id": "cdee85d3",
   "metadata": {
    "execution": {
     "iopub.execute_input": "2022-11-14T12:21:48.696136Z",
     "iopub.status.busy": "2022-11-14T12:21:48.695118Z",
     "iopub.status.idle": "2022-11-14T12:21:50.753646Z",
     "shell.execute_reply": "2022-11-14T12:21:50.751940Z"
    },
    "papermill": {
     "duration": 2.076311,
     "end_time": "2022-11-14T12:21:50.758288",
     "exception": false,
     "start_time": "2022-11-14T12:21:48.681977",
     "status": "completed"
    },
    "tags": []
   },
   "outputs": [],
   "source": [
    "y_pred1 = clf1.predict(X_test)\n",
    "y_pred2 = clf2.predict(X_test)\n",
    "y_pred3 = clf3.predict(X_test)\n"
   ]
  },
  {
   "cell_type": "code",
   "execution_count": 40,
   "id": "3db4a7d8",
   "metadata": {
    "execution": {
     "iopub.execute_input": "2022-11-14T12:21:50.822109Z",
     "iopub.status.busy": "2022-11-14T12:21:50.821346Z",
     "iopub.status.idle": "2022-11-14T12:21:50.838924Z",
     "shell.execute_reply": "2022-11-14T12:21:50.835861Z"
    },
    "papermill": {
     "duration": 0.055906,
     "end_time": "2022-11-14T12:21:50.844241",
     "exception": false,
     "start_time": "2022-11-14T12:21:50.788335",
     "status": "completed"
    },
    "tags": []
   },
   "outputs": [
    {
     "name": "stdout",
     "output_type": "stream",
     "text": [
      "Gaussian  0.615\n",
      "Multinomial  0.8195\n",
      "Bernoulli  0.822\n"
     ]
    }
   ],
   "source": [
    "from sklearn.metrics import accuracy_score\n",
    "print(\"Gaussian \", accuracy_score( Y_test,y_pred1))\n",
    "print(\"Multinomial \",accuracy_score( Y_test,y_pred2))\n",
    "print(\"Bernoulli \",accuracy_score( Y_test,y_pred3))"
   ]
  }
 ],
 "metadata": {
  "kernelspec": {
   "display_name": "Python 3",
   "language": "python",
   "name": "python3"
  },
  "language_info": {
   "codemirror_mode": {
    "name": "ipython",
    "version": 3
   },
   "file_extension": ".py",
   "mimetype": "text/x-python",
   "name": "python",
   "nbconvert_exporter": "python",
   "pygments_lexer": "ipython3",
   "version": "3.7.12"
  },
  "papermill": {
   "default_parameters": {},
   "duration": 381.771421,
   "end_time": "2022-11-14T12:21:51.894247",
   "environment_variables": {},
   "exception": null,
   "input_path": "__notebook__.ipynb",
   "output_path": "__notebook__.ipynb",
   "parameters": {},
   "start_time": "2022-11-14T12:15:30.122826",
   "version": "2.3.4"
  }
 },
 "nbformat": 4,
 "nbformat_minor": 5
}
