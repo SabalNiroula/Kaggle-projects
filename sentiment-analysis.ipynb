{
 "cells": [
  {
   "cell_type": "code",
   "execution_count": 1,
   "id": "dbaf34ae",
   "metadata": {
    "_cell_guid": "b1076dfc-b9ad-4769-8c92-a6c4dae69d19",
    "_uuid": "8f2839f25d086af736a60e9eeb907d3b93b6e0e5",
    "execution": {
     "iopub.execute_input": "2022-11-14T16:40:12.349765Z",
     "iopub.status.busy": "2022-11-14T16:40:12.349104Z",
     "iopub.status.idle": "2022-11-14T16:40:12.366769Z",
     "shell.execute_reply": "2022-11-14T16:40:12.365198Z"
    },
    "papermill": {
     "duration": 0.033157,
     "end_time": "2022-11-14T16:40:12.368912",
     "exception": false,
     "start_time": "2022-11-14T16:40:12.335755",
     "status": "completed"
    },
    "tags": []
   },
   "outputs": [
    {
     "name": "stdout",
     "output_type": "stream",
     "text": [
      "/kaggle/input/imdb-dataset-of-50k-movie-reviews/IMDB Dataset.csv\n"
     ]
    }
   ],
   "source": [
    "# This Python 3 environment comes with many helpful analytics libraries installed\n",
    "# It is defined by the kaggle/python Docker image: https://github.com/kaggle/docker-python\n",
    "# For example, here's several helpful packages to load\n",
    "\n",
    "import numpy as np # linear algebra\n",
    "import pandas as pd # data processing, CSV file I/O (e.g. pd.read_csv)\n",
    "\n",
    "# Input data files are available in the read-only \"../input/\" directory\n",
    "# For example, running this (by clicking run or pressing Shift+Enter) will list all files under the input directory\n",
    "\n",
    "import os\n",
    "for dirname, _, filenames in os.walk('/kaggle/input'):\n",
    "    for filename in filenames:\n",
    "        print(os.path.join(dirname, filename))\n",
    "\n",
    "# You can write up to 20GB to the current directory (/kaggle/working/) that gets preserved as output when you create a version using \"Save & Run All\" \n",
    "# You can also write temporary files to /kaggle/temp/, but they won't be saved outside of the current session"
   ]
  },
  {
   "cell_type": "code",
   "execution_count": 2,
   "id": "5574f4ed",
   "metadata": {
    "execution": {
     "iopub.execute_input": "2022-11-14T16:40:12.388981Z",
     "iopub.status.busy": "2022-11-14T16:40:12.388646Z",
     "iopub.status.idle": "2022-11-14T16:40:13.910284Z",
     "shell.execute_reply": "2022-11-14T16:40:13.909038Z"
    },
    "papermill": {
     "duration": 1.533922,
     "end_time": "2022-11-14T16:40:13.912475",
     "exception": false,
     "start_time": "2022-11-14T16:40:12.378553",
     "status": "completed"
    },
    "tags": []
   },
   "outputs": [],
   "source": [
    "df = pd.read_csv('../input/imdb-dataset-of-50k-movie-reviews/IMDB Dataset.csv')"
   ]
  },
  {
   "cell_type": "code",
   "execution_count": 3,
   "id": "ac571bac",
   "metadata": {
    "execution": {
     "iopub.execute_input": "2022-11-14T16:40:13.932441Z",
     "iopub.status.busy": "2022-11-14T16:40:13.932080Z",
     "iopub.status.idle": "2022-11-14T16:40:13.956390Z",
     "shell.execute_reply": "2022-11-14T16:40:13.955453Z"
    },
    "papermill": {
     "duration": 0.037764,
     "end_time": "2022-11-14T16:40:13.958843",
     "exception": false,
     "start_time": "2022-11-14T16:40:13.921079",
     "status": "completed"
    },
    "tags": []
   },
   "outputs": [
    {
     "data": {
      "text/html": [
       "<div>\n",
       "<style scoped>\n",
       "    .dataframe tbody tr th:only-of-type {\n",
       "        vertical-align: middle;\n",
       "    }\n",
       "\n",
       "    .dataframe tbody tr th {\n",
       "        vertical-align: top;\n",
       "    }\n",
       "\n",
       "    .dataframe thead th {\n",
       "        text-align: right;\n",
       "    }\n",
       "</style>\n",
       "<table border=\"1\" class=\"dataframe\">\n",
       "  <thead>\n",
       "    <tr style=\"text-align: right;\">\n",
       "      <th></th>\n",
       "      <th>review</th>\n",
       "      <th>sentiment</th>\n",
       "    </tr>\n",
       "  </thead>\n",
       "  <tbody>\n",
       "    <tr>\n",
       "      <th>0</th>\n",
       "      <td>One of the other reviewers has mentioned that ...</td>\n",
       "      <td>positive</td>\n",
       "    </tr>\n",
       "    <tr>\n",
       "      <th>1</th>\n",
       "      <td>A wonderful little production. &lt;br /&gt;&lt;br /&gt;The...</td>\n",
       "      <td>positive</td>\n",
       "    </tr>\n",
       "    <tr>\n",
       "      <th>2</th>\n",
       "      <td>I thought this was a wonderful way to spend ti...</td>\n",
       "      <td>positive</td>\n",
       "    </tr>\n",
       "    <tr>\n",
       "      <th>3</th>\n",
       "      <td>Basically there's a family where a little boy ...</td>\n",
       "      <td>negative</td>\n",
       "    </tr>\n",
       "    <tr>\n",
       "      <th>4</th>\n",
       "      <td>Petter Mattei's \"Love in the Time of Money\" is...</td>\n",
       "      <td>positive</td>\n",
       "    </tr>\n",
       "  </tbody>\n",
       "</table>\n",
       "</div>"
      ],
      "text/plain": [
       "                                              review sentiment\n",
       "0  One of the other reviewers has mentioned that ...  positive\n",
       "1  A wonderful little production. <br /><br />The...  positive\n",
       "2  I thought this was a wonderful way to spend ti...  positive\n",
       "3  Basically there's a family where a little boy ...  negative\n",
       "4  Petter Mattei's \"Love in the Time of Money\" is...  positive"
      ]
     },
     "execution_count": 3,
     "metadata": {},
     "output_type": "execute_result"
    }
   ],
   "source": [
    "df.head()"
   ]
  },
  {
   "cell_type": "markdown",
   "id": "c7953975",
   "metadata": {
    "papermill": {
     "duration": 0.012166,
     "end_time": "2022-11-14T16:40:13.982421",
     "exception": false,
     "start_time": "2022-11-14T16:40:13.970255",
     "status": "completed"
    },
    "tags": []
   },
   "source": [
    "# **Text Cleaning**\n",
    "* 1. Take 10000 reviews for easier purpose \n",
    "* 2. Remove html tags \n",
    "* 3. Remove special characters like dot(.)\n",
    "* 4. convert everything to lower case\n",
    "* 5. Removing stop words (like is, the, or, and, etc.)\n",
    "* 6. Stemming words(converting any verb(2,3,4,5) to v1 like played, playing to play)\n"
   ]
  },
  {
   "cell_type": "code",
   "execution_count": 4,
   "id": "528b1945",
   "metadata": {
    "execution": {
     "iopub.execute_input": "2022-11-14T16:40:14.004386Z",
     "iopub.status.busy": "2022-11-14T16:40:14.003921Z",
     "iopub.status.idle": "2022-11-14T16:40:14.014521Z",
     "shell.execute_reply": "2022-11-14T16:40:14.013281Z"
    },
    "papermill": {
     "duration": 0.024535,
     "end_time": "2022-11-14T16:40:14.017120",
     "exception": false,
     "start_time": "2022-11-14T16:40:13.992585",
     "status": "completed"
    },
    "tags": []
   },
   "outputs": [
    {
     "data": {
      "text/plain": [
       "\"One of the other reviewers has mentioned that after watching just 1 Oz episode you'll be hooked. They are right, as this is exactly what happened with me.<br /><br />The first thing that struck me about Oz was its brutality and unflinching scenes of violence, which set in right from the word GO. Trust me, this is not a show for the faint hearted or timid. This show pulls no punches with regards to drugs, sex or violence. Its is hardcore, in the classic use of the word.<br /><br />It is called OZ as that is the nickname given to the Oswald Maximum Security State Penitentary. It focuses mainly on Emerald City, an experimental section of the prison where all the cells have glass fronts and face inwards, so privacy is not high on the agenda. Em City is home to many..Aryans, Muslims, gangstas, Latinos, Christians, Italians, Irish and more....so scuffles, death stares, dodgy dealings and shady agreements are never far away.<br /><br />I would say the main appeal of the show is due to the fact that it goes where other shows wouldn't dare. Forget pretty pictures painted for mainstream audiences, forget charm, forget romance...OZ doesn't mess around. The first episode I ever saw struck me as so nasty it was surreal, I couldn't say I was ready for it, but as I watched more, I developed a taste for Oz, and got accustomed to the high levels of graphic violence. Not just violence, but injustice (crooked guards who'll be sold out for a nickel, inmates who'll kill on order and get away with it, well mannered, middle class inmates being turned into prison bitches due to their lack of street skills or prison experience) Watching Oz, you may become comfortable with what is uncomfortable viewing....thats if you can get in touch with your darker side.\""
      ]
     },
     "execution_count": 4,
     "metadata": {},
     "output_type": "execute_result"
    }
   ],
   "source": [
    "df['review'][0]"
   ]
  },
  {
   "cell_type": "markdown",
   "id": "81db2342",
   "metadata": {
    "papermill": {
     "duration": 0.010971,
     "end_time": "2022-11-14T16:40:14.038776",
     "exception": false,
     "start_time": "2022-11-14T16:40:14.027805",
     "status": "completed"
    },
    "tags": []
   },
   "source": [
    "**Text Cleaning**\n",
    "1. Take 10000 reviews for easier purpose \n",
    "2. Remove html tags \n",
    "3. Remove special characters like dot(.)\n",
    "4. convert everything to lower case\n",
    "5. Removing stop words (like is, the, or, and, etc.)\n",
    "6. Stemming words(converting any verb(2,3,4,5) to v1 like played, playing to play)\n"
   ]
  },
  {
   "cell_type": "code",
   "execution_count": 5,
   "id": "f02d1b76",
   "metadata": {
    "execution": {
     "iopub.execute_input": "2022-11-14T16:40:14.061850Z",
     "iopub.status.busy": "2022-11-14T16:40:14.061462Z",
     "iopub.status.idle": "2022-11-14T16:40:14.066144Z",
     "shell.execute_reply": "2022-11-14T16:40:14.064776Z"
    },
    "papermill": {
     "duration": 0.018076,
     "end_time": "2022-11-14T16:40:14.068718",
     "exception": false,
     "start_time": "2022-11-14T16:40:14.050642",
     "status": "completed"
    },
    "tags": []
   },
   "outputs": [],
   "source": [
    "# df = df.sample(10000)"
   ]
  },
  {
   "cell_type": "code",
   "execution_count": 6,
   "id": "37934973",
   "metadata": {
    "execution": {
     "iopub.execute_input": "2022-11-14T16:40:14.089343Z",
     "iopub.status.busy": "2022-11-14T16:40:14.088975Z",
     "iopub.status.idle": "2022-11-14T16:40:14.095486Z",
     "shell.execute_reply": "2022-11-14T16:40:14.094208Z"
    },
    "papermill": {
     "duration": 0.01912,
     "end_time": "2022-11-14T16:40:14.097401",
     "exception": false,
     "start_time": "2022-11-14T16:40:14.078281",
     "status": "completed"
    },
    "tags": []
   },
   "outputs": [
    {
     "data": {
      "text/plain": [
       "(50000, 2)"
      ]
     },
     "execution_count": 6,
     "metadata": {},
     "output_type": "execute_result"
    }
   ],
   "source": [
    "df.shape"
   ]
  },
  {
   "cell_type": "code",
   "execution_count": 7,
   "id": "6be9a9f8",
   "metadata": {
    "execution": {
     "iopub.execute_input": "2022-11-14T16:40:14.118481Z",
     "iopub.status.busy": "2022-11-14T16:40:14.117491Z",
     "iopub.status.idle": "2022-11-14T16:40:14.149059Z",
     "shell.execute_reply": "2022-11-14T16:40:14.148318Z"
    },
    "papermill": {
     "duration": 0.044988,
     "end_time": "2022-11-14T16:40:14.151724",
     "exception": false,
     "start_time": "2022-11-14T16:40:14.106736",
     "status": "completed"
    },
    "tags": []
   },
   "outputs": [
    {
     "name": "stdout",
     "output_type": "stream",
     "text": [
      "<class 'pandas.core.frame.DataFrame'>\n",
      "RangeIndex: 50000 entries, 0 to 49999\n",
      "Data columns (total 2 columns):\n",
      " #   Column     Non-Null Count  Dtype \n",
      "---  ------     --------------  ----- \n",
      " 0   review     50000 non-null  object\n",
      " 1   sentiment  50000 non-null  object\n",
      "dtypes: object(2)\n",
      "memory usage: 781.4+ KB\n"
     ]
    }
   ],
   "source": [
    "df.info()"
   ]
  },
  {
   "cell_type": "code",
   "execution_count": 8,
   "id": "008e7849",
   "metadata": {
    "execution": {
     "iopub.execute_input": "2022-11-14T16:40:14.171886Z",
     "iopub.status.busy": "2022-11-14T16:40:14.171531Z",
     "iopub.status.idle": "2022-11-14T16:40:14.192685Z",
     "shell.execute_reply": "2022-11-14T16:40:14.191742Z"
    },
    "papermill": {
     "duration": 0.033655,
     "end_time": "2022-11-14T16:40:14.194843",
     "exception": false,
     "start_time": "2022-11-14T16:40:14.161188",
     "status": "completed"
    },
    "tags": []
   },
   "outputs": [],
   "source": [
    "df['sentiment'].replace({'positive':1, 'negative': 0},inplace = True)"
   ]
  },
  {
   "cell_type": "code",
   "execution_count": 9,
   "id": "38c6f7a8",
   "metadata": {
    "execution": {
     "iopub.execute_input": "2022-11-14T16:40:14.215173Z",
     "iopub.status.busy": "2022-11-14T16:40:14.214795Z",
     "iopub.status.idle": "2022-11-14T16:40:14.224425Z",
     "shell.execute_reply": "2022-11-14T16:40:14.223170Z"
    },
    "papermill": {
     "duration": 0.022298,
     "end_time": "2022-11-14T16:40:14.226571",
     "exception": false,
     "start_time": "2022-11-14T16:40:14.204273",
     "status": "completed"
    },
    "tags": []
   },
   "outputs": [
    {
     "data": {
      "text/html": [
       "<div>\n",
       "<style scoped>\n",
       "    .dataframe tbody tr th:only-of-type {\n",
       "        vertical-align: middle;\n",
       "    }\n",
       "\n",
       "    .dataframe tbody tr th {\n",
       "        vertical-align: top;\n",
       "    }\n",
       "\n",
       "    .dataframe thead th {\n",
       "        text-align: right;\n",
       "    }\n",
       "</style>\n",
       "<table border=\"1\" class=\"dataframe\">\n",
       "  <thead>\n",
       "    <tr style=\"text-align: right;\">\n",
       "      <th></th>\n",
       "      <th>review</th>\n",
       "      <th>sentiment</th>\n",
       "    </tr>\n",
       "  </thead>\n",
       "  <tbody>\n",
       "    <tr>\n",
       "      <th>0</th>\n",
       "      <td>One of the other reviewers has mentioned that ...</td>\n",
       "      <td>1</td>\n",
       "    </tr>\n",
       "    <tr>\n",
       "      <th>1</th>\n",
       "      <td>A wonderful little production. &lt;br /&gt;&lt;br /&gt;The...</td>\n",
       "      <td>1</td>\n",
       "    </tr>\n",
       "    <tr>\n",
       "      <th>2</th>\n",
       "      <td>I thought this was a wonderful way to spend ti...</td>\n",
       "      <td>1</td>\n",
       "    </tr>\n",
       "    <tr>\n",
       "      <th>3</th>\n",
       "      <td>Basically there's a family where a little boy ...</td>\n",
       "      <td>0</td>\n",
       "    </tr>\n",
       "    <tr>\n",
       "      <th>4</th>\n",
       "      <td>Petter Mattei's \"Love in the Time of Money\" is...</td>\n",
       "      <td>1</td>\n",
       "    </tr>\n",
       "  </tbody>\n",
       "</table>\n",
       "</div>"
      ],
      "text/plain": [
       "                                              review  sentiment\n",
       "0  One of the other reviewers has mentioned that ...          1\n",
       "1  A wonderful little production. <br /><br />The...          1\n",
       "2  I thought this was a wonderful way to spend ti...          1\n",
       "3  Basically there's a family where a little boy ...          0\n",
       "4  Petter Mattei's \"Love in the Time of Money\" is...          1"
      ]
     },
     "execution_count": 9,
     "metadata": {},
     "output_type": "execute_result"
    }
   ],
   "source": [
    "df.head()"
   ]
  },
  {
   "cell_type": "code",
   "execution_count": 10,
   "id": "39e05a8c",
   "metadata": {
    "execution": {
     "iopub.execute_input": "2022-11-14T16:40:14.247926Z",
     "iopub.status.busy": "2022-11-14T16:40:14.247498Z",
     "iopub.status.idle": "2022-11-14T16:40:14.252643Z",
     "shell.execute_reply": "2022-11-14T16:40:14.251684Z"
    },
    "papermill": {
     "duration": 0.019201,
     "end_time": "2022-11-14T16:40:14.255330",
     "exception": false,
     "start_time": "2022-11-14T16:40:14.236129",
     "status": "completed"
    },
    "tags": []
   },
   "outputs": [],
   "source": [
    "def clean_html(text):\n",
    "    clean = re.compile(\"<.*?>\")\n",
    "    return re.sub(clean, \"\", text)"
   ]
  },
  {
   "cell_type": "code",
   "execution_count": 11,
   "id": "f7220c2d",
   "metadata": {
    "execution": {
     "iopub.execute_input": "2022-11-14T16:40:14.276101Z",
     "iopub.status.busy": "2022-11-14T16:40:14.275718Z",
     "iopub.status.idle": "2022-11-14T16:40:14.284819Z",
     "shell.execute_reply": "2022-11-14T16:40:14.283906Z"
    },
    "papermill": {
     "duration": 0.02154,
     "end_time": "2022-11-14T16:40:14.286619",
     "exception": false,
     "start_time": "2022-11-14T16:40:14.265079",
     "status": "completed"
    },
    "tags": []
   },
   "outputs": [
    {
     "data": {
      "text/html": [
       "<div>\n",
       "<style scoped>\n",
       "    .dataframe tbody tr th:only-of-type {\n",
       "        vertical-align: middle;\n",
       "    }\n",
       "\n",
       "    .dataframe tbody tr th {\n",
       "        vertical-align: top;\n",
       "    }\n",
       "\n",
       "    .dataframe thead th {\n",
       "        text-align: right;\n",
       "    }\n",
       "</style>\n",
       "<table border=\"1\" class=\"dataframe\">\n",
       "  <thead>\n",
       "    <tr style=\"text-align: right;\">\n",
       "      <th></th>\n",
       "      <th>review</th>\n",
       "      <th>sentiment</th>\n",
       "    </tr>\n",
       "  </thead>\n",
       "  <tbody>\n",
       "    <tr>\n",
       "      <th>0</th>\n",
       "      <td>One of the other reviewers has mentioned that ...</td>\n",
       "      <td>1</td>\n",
       "    </tr>\n",
       "    <tr>\n",
       "      <th>1</th>\n",
       "      <td>A wonderful little production. &lt;br /&gt;&lt;br /&gt;The...</td>\n",
       "      <td>1</td>\n",
       "    </tr>\n",
       "    <tr>\n",
       "      <th>2</th>\n",
       "      <td>I thought this was a wonderful way to spend ti...</td>\n",
       "      <td>1</td>\n",
       "    </tr>\n",
       "    <tr>\n",
       "      <th>3</th>\n",
       "      <td>Basically there's a family where a little boy ...</td>\n",
       "      <td>0</td>\n",
       "    </tr>\n",
       "    <tr>\n",
       "      <th>4</th>\n",
       "      <td>Petter Mattei's \"Love in the Time of Money\" is...</td>\n",
       "      <td>1</td>\n",
       "    </tr>\n",
       "  </tbody>\n",
       "</table>\n",
       "</div>"
      ],
      "text/plain": [
       "                                              review  sentiment\n",
       "0  One of the other reviewers has mentioned that ...          1\n",
       "1  A wonderful little production. <br /><br />The...          1\n",
       "2  I thought this was a wonderful way to spend ti...          1\n",
       "3  Basically there's a family where a little boy ...          0\n",
       "4  Petter Mattei's \"Love in the Time of Money\" is...          1"
      ]
     },
     "execution_count": 11,
     "metadata": {},
     "output_type": "execute_result"
    }
   ],
   "source": [
    "df.head()"
   ]
  },
  {
   "cell_type": "code",
   "execution_count": 12,
   "id": "cd1e32fa",
   "metadata": {
    "execution": {
     "iopub.execute_input": "2022-11-14T16:40:14.307405Z",
     "iopub.status.busy": "2022-11-14T16:40:14.306979Z",
     "iopub.status.idle": "2022-11-14T16:40:14.314495Z",
     "shell.execute_reply": "2022-11-14T16:40:14.313579Z"
    },
    "papermill": {
     "duration": 0.020397,
     "end_time": "2022-11-14T16:40:14.316334",
     "exception": false,
     "start_time": "2022-11-14T16:40:14.295937",
     "status": "completed"
    },
    "tags": []
   },
   "outputs": [
    {
     "data": {
      "text/plain": [
       "'I thought this was a wonderful way to spend time on a too hot summer weekend, sitting in the air conditioned theater and watching a light-hearted comedy. The plot is simplistic, but the dialogue is witty and the characters are likable (even the well bread suspected serial killer). While some may be disappointed when they realize this is not Match Point 2: Risk Addiction, I thought it was proof that Woody Allen is still fully in control of the style many of us have grown to love.This was the most I\\'d laughed at one of Woody\\'s comedies in years (dare I say a decade?). While I\\'ve never been impressed with Scarlet Johanson, in this she managed to tone down her \"sexy\" image and jumped right into a average, but spirited young woman.This may not be the crown jewel of his career, but it was wittier than \"Devil Wears Prada\" and more interesting than \"Superman\" a great comedy to go see with friends.'"
      ]
     },
     "execution_count": 12,
     "metadata": {},
     "output_type": "execute_result"
    }
   ],
   "source": [
    "import re\n",
    "clean = re.compile(\"<.*?>\")\n",
    "re.sub(clean,'', df.iloc[2].review)"
   ]
  },
  {
   "cell_type": "code",
   "execution_count": 13,
   "id": "c25fa7ed",
   "metadata": {
    "execution": {
     "iopub.execute_input": "2022-11-14T16:40:14.336711Z",
     "iopub.status.busy": "2022-11-14T16:40:14.336372Z",
     "iopub.status.idle": "2022-11-14T16:40:14.546520Z",
     "shell.execute_reply": "2022-11-14T16:40:14.545311Z"
    },
    "papermill": {
     "duration": 0.223188,
     "end_time": "2022-11-14T16:40:14.548936",
     "exception": false,
     "start_time": "2022-11-14T16:40:14.325748",
     "status": "completed"
    },
    "tags": []
   },
   "outputs": [],
   "source": [
    "df['review'] = df['review'].apply(clean_html)"
   ]
  },
  {
   "cell_type": "code",
   "execution_count": 14,
   "id": "90e5bc2c",
   "metadata": {
    "execution": {
     "iopub.execute_input": "2022-11-14T16:40:14.570304Z",
     "iopub.status.busy": "2022-11-14T16:40:14.569918Z",
     "iopub.status.idle": "2022-11-14T16:40:14.577449Z",
     "shell.execute_reply": "2022-11-14T16:40:14.576579Z"
    },
    "papermill": {
     "duration": 0.02034,
     "end_time": "2022-11-14T16:40:14.579299",
     "exception": false,
     "start_time": "2022-11-14T16:40:14.558959",
     "status": "completed"
    },
    "tags": []
   },
   "outputs": [
    {
     "data": {
      "text/plain": [
       "0        One of the other reviewers has mentioned that ...\n",
       "1        A wonderful little production. The filming tec...\n",
       "2        I thought this was a wonderful way to spend ti...\n",
       "3        Basically there's a family where a little boy ...\n",
       "4        Petter Mattei's \"Love in the Time of Money\" is...\n",
       "                               ...                        \n",
       "49995    I thought this movie did a down right good job...\n",
       "49996    Bad plot, bad dialogue, bad acting, idiotic di...\n",
       "49997    I am a Catholic taught in parochial elementary...\n",
       "49998    I'm going to have to disagree with the previou...\n",
       "49999    No one expects the Star Trek movies to be high...\n",
       "Name: review, Length: 50000, dtype: object"
      ]
     },
     "execution_count": 14,
     "metadata": {},
     "output_type": "execute_result"
    }
   ],
   "source": [
    "df['review']"
   ]
  },
  {
   "cell_type": "code",
   "execution_count": 15,
   "id": "c822cb92",
   "metadata": {
    "execution": {
     "iopub.execute_input": "2022-11-14T16:40:14.600871Z",
     "iopub.status.busy": "2022-11-14T16:40:14.600492Z",
     "iopub.status.idle": "2022-11-14T16:40:14.605612Z",
     "shell.execute_reply": "2022-11-14T16:40:14.604290Z"
    },
    "papermill": {
     "duration": 0.018969,
     "end_time": "2022-11-14T16:40:14.608246",
     "exception": false,
     "start_time": "2022-11-14T16:40:14.589277",
     "status": "completed"
    },
    "tags": []
   },
   "outputs": [],
   "source": [
    "def lower_case(text):\n",
    "    return text.lower();"
   ]
  },
  {
   "cell_type": "code",
   "execution_count": 16,
   "id": "75a2353e",
   "metadata": {
    "execution": {
     "iopub.execute_input": "2022-11-14T16:40:14.630881Z",
     "iopub.status.busy": "2022-11-14T16:40:14.629892Z",
     "iopub.status.idle": "2022-11-14T16:40:14.735202Z",
     "shell.execute_reply": "2022-11-14T16:40:14.734436Z"
    },
    "papermill": {
     "duration": 0.119076,
     "end_time": "2022-11-14T16:40:14.737525",
     "exception": false,
     "start_time": "2022-11-14T16:40:14.618449",
     "status": "completed"
    },
    "tags": []
   },
   "outputs": [],
   "source": [
    "df['review'] = df['review'].apply(lower_case)"
   ]
  },
  {
   "cell_type": "code",
   "execution_count": 17,
   "id": "47e26aba",
   "metadata": {
    "execution": {
     "iopub.execute_input": "2022-11-14T16:40:14.759578Z",
     "iopub.status.busy": "2022-11-14T16:40:14.758971Z",
     "iopub.status.idle": "2022-11-14T16:40:14.767022Z",
     "shell.execute_reply": "2022-11-14T16:40:14.765958Z"
    },
    "papermill": {
     "duration": 0.02181,
     "end_time": "2022-11-14T16:40:14.769424",
     "exception": false,
     "start_time": "2022-11-14T16:40:14.747614",
     "status": "completed"
    },
    "tags": []
   },
   "outputs": [
    {
     "data": {
      "text/plain": [
       "0        one of the other reviewers has mentioned that ...\n",
       "1        a wonderful little production. the filming tec...\n",
       "2        i thought this was a wonderful way to spend ti...\n",
       "3        basically there's a family where a little boy ...\n",
       "4        petter mattei's \"love in the time of money\" is...\n",
       "                               ...                        \n",
       "49995    i thought this movie did a down right good job...\n",
       "49996    bad plot, bad dialogue, bad acting, idiotic di...\n",
       "49997    i am a catholic taught in parochial elementary...\n",
       "49998    i'm going to have to disagree with the previou...\n",
       "49999    no one expects the star trek movies to be high...\n",
       "Name: review, Length: 50000, dtype: object"
      ]
     },
     "execution_count": 17,
     "metadata": {},
     "output_type": "execute_result"
    }
   ],
   "source": [
    "df['review']"
   ]
  },
  {
   "cell_type": "code",
   "execution_count": 18,
   "id": "c52781dd",
   "metadata": {
    "execution": {
     "iopub.execute_input": "2022-11-14T16:40:14.792190Z",
     "iopub.status.busy": "2022-11-14T16:40:14.790954Z",
     "iopub.status.idle": "2022-11-14T16:40:14.796986Z",
     "shell.execute_reply": "2022-11-14T16:40:14.796113Z"
    },
    "papermill": {
     "duration": 0.01944,
     "end_time": "2022-11-14T16:40:14.799206",
     "exception": false,
     "start_time": "2022-11-14T16:40:14.779766",
     "status": "completed"
    },
    "tags": []
   },
   "outputs": [],
   "source": [
    "def special_character(text):\n",
    "    x = ''\n",
    "    for i in text:\n",
    "        if i.isalpha():\n",
    "            x = x+i\n",
    "        else:\n",
    "            x = x + ' '\n",
    "        \n",
    "    return x;"
   ]
  },
  {
   "cell_type": "code",
   "execution_count": 19,
   "id": "21120734",
   "metadata": {
    "execution": {
     "iopub.execute_input": "2022-11-14T16:40:14.821990Z",
     "iopub.status.busy": "2022-11-14T16:40:14.821653Z",
     "iopub.status.idle": "2022-11-14T16:40:23.713643Z",
     "shell.execute_reply": "2022-11-14T16:40:23.712181Z"
    },
    "papermill": {
     "duration": 8.906538,
     "end_time": "2022-11-14T16:40:23.716074",
     "exception": false,
     "start_time": "2022-11-14T16:40:14.809536",
     "status": "completed"
    },
    "tags": []
   },
   "outputs": [],
   "source": [
    "df['review'] = df['review'].apply(special_character)"
   ]
  },
  {
   "cell_type": "code",
   "execution_count": 20,
   "id": "00daa452",
   "metadata": {
    "execution": {
     "iopub.execute_input": "2022-11-14T16:40:23.737902Z",
     "iopub.status.busy": "2022-11-14T16:40:23.736911Z",
     "iopub.status.idle": "2022-11-14T16:40:25.318389Z",
     "shell.execute_reply": "2022-11-14T16:40:25.317381Z"
    },
    "papermill": {
     "duration": 1.594714,
     "end_time": "2022-11-14T16:40:25.320949",
     "exception": false,
     "start_time": "2022-11-14T16:40:23.726235",
     "status": "completed"
    },
    "tags": []
   },
   "outputs": [],
   "source": [
    "import nltk"
   ]
  },
  {
   "cell_type": "code",
   "execution_count": 21,
   "id": "8b0f4077",
   "metadata": {
    "execution": {
     "iopub.execute_input": "2022-11-14T16:40:25.343307Z",
     "iopub.status.busy": "2022-11-14T16:40:25.342107Z",
     "iopub.status.idle": "2022-11-14T16:40:25.346570Z",
     "shell.execute_reply": "2022-11-14T16:40:25.345911Z"
    },
    "papermill": {
     "duration": 0.016849,
     "end_time": "2022-11-14T16:40:25.348198",
     "exception": false,
     "start_time": "2022-11-14T16:40:25.331349",
     "status": "completed"
    },
    "tags": []
   },
   "outputs": [],
   "source": [
    "from nltk.corpus import stopwords"
   ]
  },
  {
   "cell_type": "code",
   "execution_count": 22,
   "id": "e8240f23",
   "metadata": {
    "execution": {
     "iopub.execute_input": "2022-11-14T16:40:25.368977Z",
     "iopub.status.busy": "2022-11-14T16:40:25.368638Z",
     "iopub.status.idle": "2022-11-14T16:40:25.373204Z",
     "shell.execute_reply": "2022-11-14T16:40:25.372578Z"
    },
    "papermill": {
     "duration": 0.017054,
     "end_time": "2022-11-14T16:40:25.374921",
     "exception": false,
     "start_time": "2022-11-14T16:40:25.357867",
     "status": "completed"
    },
    "tags": []
   },
   "outputs": [],
   "source": [
    "def remove_stop(text):\n",
    "    x = []\n",
    "    for i in text.split():\n",
    "        if i not in stopwords.words('english'):\n",
    "            x.append(i)\n",
    "    y = x[:]\n",
    "    x.clear()\n",
    "    return y;"
   ]
  },
  {
   "cell_type": "code",
   "execution_count": 23,
   "id": "6abfb099",
   "metadata": {
    "execution": {
     "iopub.execute_input": "2022-11-14T16:40:25.396178Z",
     "iopub.status.busy": "2022-11-14T16:40:25.395712Z",
     "iopub.status.idle": "2022-11-14T17:00:24.976749Z",
     "shell.execute_reply": "2022-11-14T17:00:24.975789Z"
    },
    "papermill": {
     "duration": 1199.594235,
     "end_time": "2022-11-14T17:00:24.979220",
     "exception": false,
     "start_time": "2022-11-14T16:40:25.384985",
     "status": "completed"
    },
    "tags": []
   },
   "outputs": [],
   "source": [
    "df['review'] = df['review'].apply(remove_stop )"
   ]
  },
  {
   "cell_type": "code",
   "execution_count": 24,
   "id": "c9defbd4",
   "metadata": {
    "execution": {
     "iopub.execute_input": "2022-11-14T17:00:25.001981Z",
     "iopub.status.busy": "2022-11-14T17:00:25.001299Z",
     "iopub.status.idle": "2022-11-14T17:00:25.013322Z",
     "shell.execute_reply": "2022-11-14T17:00:25.012562Z"
    },
    "papermill": {
     "duration": 0.025415,
     "end_time": "2022-11-14T17:00:25.015171",
     "exception": false,
     "start_time": "2022-11-14T17:00:24.989756",
     "status": "completed"
    },
    "tags": []
   },
   "outputs": [
    {
     "data": {
      "text/plain": [
       "0        [one, reviewers, mentioned, watching, oz, epis...\n",
       "1        [wonderful, little, production, filming, techn...\n",
       "2        [thought, wonderful, way, spend, time, hot, su...\n",
       "3        [basically, family, little, boy, jake, thinks,...\n",
       "4        [petter, mattei, love, time, money, visually, ...\n",
       "                               ...                        \n",
       "49995    [thought, movie, right, good, job, creative, o...\n",
       "49996    [bad, plot, bad, dialogue, bad, acting, idioti...\n",
       "49997    [catholic, taught, parochial, elementary, scho...\n",
       "49998    [going, disagree, previous, comment, side, mal...\n",
       "49999    [one, expects, star, trek, movies, high, art, ...\n",
       "Name: review, Length: 50000, dtype: object"
      ]
     },
     "execution_count": 24,
     "metadata": {},
     "output_type": "execute_result"
    }
   ],
   "source": [
    "df['review']"
   ]
  },
  {
   "cell_type": "code",
   "execution_count": 25,
   "id": "f8106253",
   "metadata": {
    "execution": {
     "iopub.execute_input": "2022-11-14T17:00:25.038154Z",
     "iopub.status.busy": "2022-11-14T17:00:25.037541Z",
     "iopub.status.idle": "2022-11-14T17:00:25.042299Z",
     "shell.execute_reply": "2022-11-14T17:00:25.041428Z"
    },
    "papermill": {
     "duration": 0.01885,
     "end_time": "2022-11-14T17:00:25.044647",
     "exception": false,
     "start_time": "2022-11-14T17:00:25.025797",
     "status": "completed"
    },
    "tags": []
   },
   "outputs": [],
   "source": [
    "from nltk.stem.porter import PorterStemmer\n",
    "ps = PorterStemmer()"
   ]
  },
  {
   "cell_type": "code",
   "execution_count": 26,
   "id": "1091aa36",
   "metadata": {
    "execution": {
     "iopub.execute_input": "2022-11-14T17:00:25.067777Z",
     "iopub.status.busy": "2022-11-14T17:00:25.067108Z",
     "iopub.status.idle": "2022-11-14T17:00:25.072926Z",
     "shell.execute_reply": "2022-11-14T17:00:25.071821Z"
    },
    "papermill": {
     "duration": 0.019466,
     "end_time": "2022-11-14T17:00:25.075139",
     "exception": false,
     "start_time": "2022-11-14T17:00:25.055673",
     "status": "completed"
    },
    "tags": []
   },
   "outputs": [],
   "source": [
    "y = []\n",
    "def stem_word(text):\n",
    "    for i in text:\n",
    "        y.append(ps.stem(i)) \n",
    "    z = y[:]\n",
    "    y.clear()\n",
    "    return z"
   ]
  },
  {
   "cell_type": "code",
   "execution_count": 27,
   "id": "1e5b5f6a",
   "metadata": {
    "execution": {
     "iopub.execute_input": "2022-11-14T17:00:25.096941Z",
     "iopub.status.busy": "2022-11-14T17:00:25.096380Z",
     "iopub.status.idle": "2022-11-14T17:02:49.319477Z",
     "shell.execute_reply": "2022-11-14T17:02:49.318535Z"
    },
    "papermill": {
     "duration": 144.236609,
     "end_time": "2022-11-14T17:02:49.321765",
     "exception": false,
     "start_time": "2022-11-14T17:00:25.085156",
     "status": "completed"
    },
    "tags": []
   },
   "outputs": [],
   "source": [
    "df['review'] = df['review'].apply(stem_word)"
   ]
  },
  {
   "cell_type": "code",
   "execution_count": 28,
   "id": "44b343fd",
   "metadata": {
    "execution": {
     "iopub.execute_input": "2022-11-14T17:02:49.343629Z",
     "iopub.status.busy": "2022-11-14T17:02:49.343120Z",
     "iopub.status.idle": "2022-11-14T17:02:49.354427Z",
     "shell.execute_reply": "2022-11-14T17:02:49.353319Z"
    },
    "papermill": {
     "duration": 0.024301,
     "end_time": "2022-11-14T17:02:49.356381",
     "exception": false,
     "start_time": "2022-11-14T17:02:49.332080",
     "status": "completed"
    },
    "tags": []
   },
   "outputs": [
    {
     "data": {
      "text/plain": [
       "0        [one, review, mention, watch, oz, episod, hook...\n",
       "1        [wonder, littl, product, film, techniqu, unass...\n",
       "2        [thought, wonder, way, spend, time, hot, summe...\n",
       "3        [basic, famili, littl, boy, jake, think, zombi...\n",
       "4        [petter, mattei, love, time, money, visual, st...\n",
       "                               ...                        \n",
       "49995    [thought, movi, right, good, job, creativ, ori...\n",
       "49996    [bad, plot, bad, dialogu, bad, act, idiot, dir...\n",
       "49997    [cathol, taught, parochi, elementari, school, ...\n",
       "49998    [go, disagre, previou, comment, side, maltin, ...\n",
       "49999    [one, expect, star, trek, movi, high, art, fan...\n",
       "Name: review, Length: 50000, dtype: object"
      ]
     },
     "execution_count": 28,
     "metadata": {},
     "output_type": "execute_result"
    }
   ],
   "source": [
    "df['review']"
   ]
  },
  {
   "cell_type": "code",
   "execution_count": 29,
   "id": "a5f07e68",
   "metadata": {
    "execution": {
     "iopub.execute_input": "2022-11-14T17:02:49.377527Z",
     "iopub.status.busy": "2022-11-14T17:02:49.377177Z",
     "iopub.status.idle": "2022-11-14T17:02:49.382149Z",
     "shell.execute_reply": "2022-11-14T17:02:49.381062Z"
    },
    "papermill": {
     "duration": 0.017755,
     "end_time": "2022-11-14T17:02:49.384056",
     "exception": false,
     "start_time": "2022-11-14T17:02:49.366301",
     "status": "completed"
    },
    "tags": []
   },
   "outputs": [],
   "source": [
    "def join_back(text):\n",
    "    return \" \".join(text)"
   ]
  },
  {
   "cell_type": "code",
   "execution_count": 30,
   "id": "cb424597",
   "metadata": {
    "execution": {
     "iopub.execute_input": "2022-11-14T17:02:49.405490Z",
     "iopub.status.busy": "2022-11-14T17:02:49.405114Z",
     "iopub.status.idle": "2022-11-14T17:02:49.667370Z",
     "shell.execute_reply": "2022-11-14T17:02:49.666147Z"
    },
    "papermill": {
     "duration": 0.275848,
     "end_time": "2022-11-14T17:02:49.669791",
     "exception": false,
     "start_time": "2022-11-14T17:02:49.393943",
     "status": "completed"
    },
    "tags": []
   },
   "outputs": [],
   "source": [
    "df['review'] = df['review'].apply(join_back)"
   ]
  },
  {
   "cell_type": "code",
   "execution_count": 31,
   "id": "c3875e5d",
   "metadata": {
    "execution": {
     "iopub.execute_input": "2022-11-14T17:02:49.691857Z",
     "iopub.status.busy": "2022-11-14T17:02:49.690742Z",
     "iopub.status.idle": "2022-11-14T17:02:49.698808Z",
     "shell.execute_reply": "2022-11-14T17:02:49.698033Z"
    },
    "papermill": {
     "duration": 0.020715,
     "end_time": "2022-11-14T17:02:49.700483",
     "exception": false,
     "start_time": "2022-11-14T17:02:49.679768",
     "status": "completed"
    },
    "tags": []
   },
   "outputs": [
    {
     "data": {
      "text/plain": [
       "0        one review mention watch oz episod hook right ...\n",
       "1        wonder littl product film techniqu unassum old...\n",
       "2        thought wonder way spend time hot summer weeke...\n",
       "3        basic famili littl boy jake think zombi closet...\n",
       "4        petter mattei love time money visual stun film...\n",
       "                               ...                        \n",
       "49995    thought movi right good job creativ origin fir...\n",
       "49996    bad plot bad dialogu bad act idiot direct anno...\n",
       "49997    cathol taught parochi elementari school nun ta...\n",
       "49998    go disagre previou comment side maltin one sec...\n",
       "49999    one expect star trek movi high art fan expect ...\n",
       "Name: review, Length: 50000, dtype: object"
      ]
     },
     "execution_count": 31,
     "metadata": {},
     "output_type": "execute_result"
    }
   ],
   "source": [
    "df['review']"
   ]
  },
  {
   "cell_type": "code",
   "execution_count": 32,
   "id": "94e344aa",
   "metadata": {
    "execution": {
     "iopub.execute_input": "2022-11-14T17:02:49.721230Z",
     "iopub.status.busy": "2022-11-14T17:02:49.720829Z",
     "iopub.status.idle": "2022-11-14T17:02:49.724712Z",
     "shell.execute_reply": "2022-11-14T17:02:49.723813Z"
    },
    "papermill": {
     "duration": 0.016173,
     "end_time": "2022-11-14T17:02:49.726337",
     "exception": false,
     "start_time": "2022-11-14T17:02:49.710164",
     "status": "completed"
    },
    "tags": []
   },
   "outputs": [],
   "source": [
    "from sklearn.feature_extraction.text import CountVectorizer\n",
    "cv = CountVectorizer(max_features= 1000) #Rather than using all 35k words we may use 5000 most used words to build column"
   ]
  },
  {
   "cell_type": "code",
   "execution_count": 33,
   "id": "640e7595",
   "metadata": {
    "execution": {
     "iopub.execute_input": "2022-11-14T17:02:49.747150Z",
     "iopub.status.busy": "2022-11-14T17:02:49.746709Z",
     "iopub.status.idle": "2022-11-14T17:02:53.845503Z",
     "shell.execute_reply": "2022-11-14T17:02:53.844181Z"
    },
    "papermill": {
     "duration": 4.112112,
     "end_time": "2022-11-14T17:02:53.848147",
     "exception": false,
     "start_time": "2022-11-14T17:02:49.736035",
     "status": "completed"
    },
    "tags": []
   },
   "outputs": [],
   "source": [
    "X = cv.fit_transform(df['review']).toarray()"
   ]
  },
  {
   "cell_type": "code",
   "execution_count": 34,
   "id": "4ac0ea10",
   "metadata": {
    "execution": {
     "iopub.execute_input": "2022-11-14T17:02:53.870700Z",
     "iopub.status.busy": "2022-11-14T17:02:53.870247Z",
     "iopub.status.idle": "2022-11-14T17:02:53.878463Z",
     "shell.execute_reply": "2022-11-14T17:02:53.877389Z"
    },
    "papermill": {
     "duration": 0.022225,
     "end_time": "2022-11-14T17:02:53.880756",
     "exception": false,
     "start_time": "2022-11-14T17:02:53.858531",
     "status": "completed"
    },
    "tags": []
   },
   "outputs": [
    {
     "data": {
      "text/plain": [
       "(50000, 1000)"
      ]
     },
     "execution_count": 34,
     "metadata": {},
     "output_type": "execute_result"
    }
   ],
   "source": [
    "X.shape"
   ]
  },
  {
   "cell_type": "code",
   "execution_count": 35,
   "id": "d3f61d81",
   "metadata": {
    "execution": {
     "iopub.execute_input": "2022-11-14T17:02:53.903818Z",
     "iopub.status.busy": "2022-11-14T17:02:53.903430Z",
     "iopub.status.idle": "2022-11-14T17:02:53.908542Z",
     "shell.execute_reply": "2022-11-14T17:02:53.907492Z"
    },
    "papermill": {
     "duration": 0.019139,
     "end_time": "2022-11-14T17:02:53.910261",
     "exception": false,
     "start_time": "2022-11-14T17:02:53.891122",
     "status": "completed"
    },
    "tags": []
   },
   "outputs": [],
   "source": [
    "y = df.iloc[:, 1].values #returns index and label (1:positive, 0:negative) but with .values it return array of label"
   ]
  },
  {
   "cell_type": "code",
   "execution_count": 36,
   "id": "c2a85dbe",
   "metadata": {
    "execution": {
     "iopub.execute_input": "2022-11-14T17:02:53.933290Z",
     "iopub.status.busy": "2022-11-14T17:02:53.932683Z",
     "iopub.status.idle": "2022-11-14T17:02:53.939893Z",
     "shell.execute_reply": "2022-11-14T17:02:53.938566Z"
    },
    "papermill": {
     "duration": 0.020627,
     "end_time": "2022-11-14T17:02:53.941837",
     "exception": false,
     "start_time": "2022-11-14T17:02:53.921210",
     "status": "completed"
    },
    "tags": []
   },
   "outputs": [
    {
     "data": {
      "text/plain": [
       "array([1, 1, 1, ..., 0, 0, 0])"
      ]
     },
     "execution_count": 36,
     "metadata": {},
     "output_type": "execute_result"
    }
   ],
   "source": [
    "y"
   ]
  },
  {
   "cell_type": "markdown",
   "id": "1a37ed87",
   "metadata": {
    "papermill": {
     "duration": 0.010038,
     "end_time": "2022-11-14T17:02:53.962466",
     "exception": false,
     "start_time": "2022-11-14T17:02:53.952428",
     "status": "completed"
    },
    "tags": []
   },
   "source": [
    "# **Training and Testing Phase**\n",
    "1. Splitting the data among training and testing phase\n",
    "2. Training Data\n",
    "3. Testing accuracy of Data "
   ]
  },
  {
   "cell_type": "code",
   "execution_count": 37,
   "id": "49ec7985",
   "metadata": {
    "execution": {
     "iopub.execute_input": "2022-11-14T17:02:53.985283Z",
     "iopub.status.busy": "2022-11-14T17:02:53.983877Z",
     "iopub.status.idle": "2022-11-14T17:02:54.092306Z",
     "shell.execute_reply": "2022-11-14T17:02:54.091363Z"
    },
    "papermill": {
     "duration": 0.12206,
     "end_time": "2022-11-14T17:02:54.094696",
     "exception": false,
     "start_time": "2022-11-14T17:02:53.972636",
     "status": "completed"
    },
    "tags": []
   },
   "outputs": [],
   "source": [
    "from sklearn.model_selection import train_test_split\n",
    "X_train, X_test, Y_train, Y_test = train_test_split(X,y, test_size= 0.2)\n",
    "#here the X contains the features whereas the Y contains label "
   ]
  },
  {
   "cell_type": "code",
   "execution_count": 38,
   "id": "883ad2a7",
   "metadata": {
    "execution": {
     "iopub.execute_input": "2022-11-14T17:02:54.118379Z",
     "iopub.status.busy": "2022-11-14T17:02:54.117681Z",
     "iopub.status.idle": "2022-11-14T17:02:54.127046Z",
     "shell.execute_reply": "2022-11-14T17:02:54.125843Z"
    },
    "papermill": {
     "duration": 0.023841,
     "end_time": "2022-11-14T17:02:54.129665",
     "exception": false,
     "start_time": "2022-11-14T17:02:54.105824",
     "status": "completed"
    },
    "tags": []
   },
   "outputs": [],
   "source": [
    "from sklearn.naive_bayes import GaussianNB, MultinomialNB, BernoulliNB\n",
    "clf1 = GaussianNB()\n",
    "clf2 = MultinomialNB()\n",
    "clf3 = BernoulliNB()"
   ]
  },
  {
   "cell_type": "code",
   "execution_count": 39,
   "id": "bb6ec55f",
   "metadata": {
    "execution": {
     "iopub.execute_input": "2022-11-14T17:02:54.152181Z",
     "iopub.status.busy": "2022-11-14T17:02:54.151820Z",
     "iopub.status.idle": "2022-11-14T17:02:55.160222Z",
     "shell.execute_reply": "2022-11-14T17:02:55.159193Z"
    },
    "papermill": {
     "duration": 1.022078,
     "end_time": "2022-11-14T17:02:55.162450",
     "exception": false,
     "start_time": "2022-11-14T17:02:54.140372",
     "status": "completed"
    },
    "tags": []
   },
   "outputs": [
    {
     "data": {
      "text/plain": [
       "BernoulliNB()"
      ]
     },
     "execution_count": 39,
     "metadata": {},
     "output_type": "execute_result"
    }
   ],
   "source": [
    "clf1.fit(X_train, Y_train)\n",
    "clf2.fit(X_train, Y_train)\n",
    "clf3.fit(X_train, Y_train)"
   ]
  },
  {
   "cell_type": "code",
   "execution_count": 40,
   "id": "019855ad",
   "metadata": {
    "execution": {
     "iopub.execute_input": "2022-11-14T17:02:55.186529Z",
     "iopub.status.busy": "2022-11-14T17:02:55.186190Z",
     "iopub.status.idle": "2022-11-14T17:02:55.402849Z",
     "shell.execute_reply": "2022-11-14T17:02:55.401891Z"
    },
    "papermill": {
     "duration": 0.231524,
     "end_time": "2022-11-14T17:02:55.405319",
     "exception": false,
     "start_time": "2022-11-14T17:02:55.173795",
     "status": "completed"
    },
    "tags": []
   },
   "outputs": [],
   "source": [
    "y_pred1 = clf1.predict(X_test)\n",
    "y_pred2 = clf2.predict(X_test)\n",
    "y_pred3 = clf3.predict(X_test)\n"
   ]
  },
  {
   "cell_type": "code",
   "execution_count": 41,
   "id": "4c00475d",
   "metadata": {
    "execution": {
     "iopub.execute_input": "2022-11-14T17:02:55.434435Z",
     "iopub.status.busy": "2022-11-14T17:02:55.433990Z",
     "iopub.status.idle": "2022-11-14T17:02:55.446553Z",
     "shell.execute_reply": "2022-11-14T17:02:55.445746Z"
    },
    "papermill": {
     "duration": 0.030003,
     "end_time": "2022-11-14T17:02:55.448823",
     "exception": false,
     "start_time": "2022-11-14T17:02:55.418820",
     "status": "completed"
    },
    "tags": []
   },
   "outputs": [
    {
     "name": "stdout",
     "output_type": "stream",
     "text": [
      "Gaussian  0.7944\n",
      "Multinomial  0.838\n",
      "Bernoulli  0.8414\n"
     ]
    }
   ],
   "source": [
    "from sklearn.metrics import accuracy_score\n",
    "print(\"Gaussian \", accuracy_score( Y_test,y_pred1))\n",
    "print(\"Multinomial \",accuracy_score( Y_test,y_pred2))\n",
    "print(\"Bernoulli \",accuracy_score( Y_test,y_pred3))"
   ]
  }
 ],
 "metadata": {
  "kernelspec": {
   "display_name": "Python 3",
   "language": "python",
   "name": "python3"
  },
  "language_info": {
   "codemirror_mode": {
    "name": "ipython",
    "version": 3
   },
   "file_extension": ".py",
   "mimetype": "text/x-python",
   "name": "python",
   "nbconvert_exporter": "python",
   "pygments_lexer": "ipython3",
   "version": "3.7.12"
  },
  "papermill": {
   "default_parameters": {},
   "duration": 1372.948548,
   "end_time": "2022-11-14T17:02:56.287296",
   "environment_variables": {},
   "exception": null,
   "input_path": "__notebook__.ipynb",
   "output_path": "__notebook__.ipynb",
   "parameters": {},
   "start_time": "2022-11-14T16:40:03.338748",
   "version": "2.3.4"
  }
 },
 "nbformat": 4,
 "nbformat_minor": 5
}
